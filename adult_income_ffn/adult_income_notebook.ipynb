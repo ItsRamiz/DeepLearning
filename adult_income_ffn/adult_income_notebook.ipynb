{
  "nbformat": 4,
  "nbformat_minor": 0,
  "metadata": {
    "colab": {
      "provenance": []
    },
    "kernelspec": {
      "name": "python3",
      "display_name": "Python 3"
    },
    "language_info": {
      "name": "python"
    }
  },
  "cells": [
    {
      "cell_type": "markdown",
      "source": [
        "# Homework 1 - Deep Learning Winter 2024\n",
        "TA: Jerry Abu Ayoub\n",
        "\n",
        "<font color='aqua'>\n",
        "Student 1: Or Dinar 207035809\n",
        "</font>\n",
        "<br>\n",
        "<font color='aqua'>\n",
        "Student 2: Ramiz Srour 314855446\n",
        "</font>"
      ],
      "metadata": {
        "id": "sDQau7ffY-wm"
      }
    },
    {
      "cell_type": "markdown",
      "source": [
        "## Libraries and Drive"
      ],
      "metadata": {
        "id": "SAuX5G00ZJsT"
      }
    },
    {
      "cell_type": "code",
      "execution_count": null,
      "metadata": {
        "id": "kXKm1CVRYz2z"
      },
      "outputs": [],
      "source": [
        "import torch\n",
        "import torch.nn as nn\n",
        "import torch.optim as optim\n",
        "import torch.nn.functional as F\n",
        "from torch.utils.data import DataLoader, TensorDataset\n",
        "import pandas as pd\n",
        "import numpy as np\n",
        "import os\n",
        "import matplotlib.pyplot as plt\n",
        "\n",
        "from sklearn.model_selection import train_test_split\n",
        "from sklearn.preprocessing import StandardScaler, LabelEncoder\n",
        "\n",
        "from google.colab import drive"
      ]
    },
    {
      "cell_type": "code",
      "source": [
        "drive.mount('/content/drive')"
      ],
      "metadata": {
        "colab": {
          "base_uri": "https://localhost:8080/"
        },
        "id": "UbJKJOnba0ks",
        "outputId": "24166ca2-c2a0-4e70-e5ea-3c2eb2e5a295"
      },
      "execution_count": null,
      "outputs": [
        {
          "output_type": "stream",
          "name": "stdout",
          "text": [
            "Mounted at /content/drive\n"
          ]
        }
      ]
    },
    {
      "cell_type": "markdown",
      "source": [
        "The following command would only work after going to the shared folder on google drive -> right-click -> organize -> add shortcut"
      ],
      "metadata": {
        "id": "RiUb_e71gpBw"
      }
    },
    {
      "cell_type": "code",
      "source": [
        "%cd drive/MyDrive/DeepLearning"
      ],
      "metadata": {
        "colab": {
          "base_uri": "https://localhost:8080/"
        },
        "id": "2_hhmVcKfqTa",
        "outputId": "1de8861c-16d0-4f57-c8d6-9de1cff68232"
      },
      "execution_count": null,
      "outputs": [
        {
          "output_type": "stream",
          "name": "stdout",
          "text": [
            "/content/drive/MyDrive/DeepLearning\n"
          ]
        }
      ]
    },
    {
      "cell_type": "code",
      "source": [
        "%cd drive/MyDrive/HW1"
      ],
      "metadata": {
        "id": "ZOLUaAhCvTbF"
      },
      "execution_count": null,
      "outputs": []
    },
    {
      "cell_type": "code",
      "source": [
        "!ls"
      ],
      "metadata": {
        "colab": {
          "base_uri": "https://localhost:8080/"
        },
        "id": "-kb4Re4Wfwcc",
        "outputId": "4ee90d06-8218-41f4-afb5-027830f2e8fb"
      },
      "execution_count": null,
      "outputs": [
        {
          "output_type": "stream",
          "name": "stdout",
          "text": [
            "colums.txt  part1_test.csv  part1_train.csv\n"
          ]
        }
      ]
    },
    {
      "cell_type": "markdown",
      "source": [
        "## Exercise 1 - Income Prediction"
      ],
      "metadata": {
        "id": "kG3vP87SaUfU"
      }
    },
    {
      "cell_type": "markdown",
      "source": [
        "### Data visualiztion and pre processing"
      ],
      "metadata": {
        "id": "0jOYUJSvssxb"
      }
    },
    {
      "cell_type": "markdown",
      "source": [
        "> Loading the training and testing data into dataframes"
      ],
      "metadata": {
        "id": "ksZ4NXkjhhvS"
      }
    },
    {
      "cell_type": "code",
      "source": [
        "df_train = pd.read_csv('part1_train.csv', header=None)\n",
        "df_test = pd.read_csv('part1_test.csv', header=None)\n",
        "\n",
        "df_train = df_train[~df_train.apply(lambda row: row.astype(str).str.contains(r'\\?', na=False)).any(axis=1)]\n",
        "df_test = df_test[~df_test.apply(lambda row: row.astype(str).str.contains(r'\\?', na=False)).any(axis=1)]"
      ],
      "metadata": {
        "id": "wSMNJ-C4aadP"
      },
      "execution_count": null,
      "outputs": []
    },
    {
      "cell_type": "markdown",
      "source": [
        "> Giving columns readable names - using the file 'colums.txt' attached with the exercise."
      ],
      "metadata": {
        "id": "lgIld6Qvsig5"
      }
    },
    {
      "cell_type": "code",
      "source": [
        "with open('colums.txt', 'r') as file:\n",
        "    lines = file.readlines()\n",
        "\n",
        "column_names = []\n",
        "for index, line in enumerate(lines):\n",
        "    if index == 14:        # Output line\n",
        "        column_name = 'Output'\n",
        "    else:\n",
        "        column_name = line.split(':')[0].strip()\n",
        "    column_names.append(column_name)\n",
        "\n",
        "df_train.columns = column_names\n",
        "df_test.columns = column_names"
      ],
      "metadata": {
        "id": "N6RdHfhciYhw"
      },
      "execution_count": null,
      "outputs": []
    },
    {
      "cell_type": "code",
      "source": [
        "df_train.head()"
      ],
      "metadata": {
        "id": "Q_JUSkEajseO",
        "colab": {
          "base_uri": "https://localhost:8080/",
          "height": 206
        },
        "outputId": "5a5613bd-4a2d-40e8-9011-70601091a9ac"
      },
      "execution_count": null,
      "outputs": [
        {
          "output_type": "execute_result",
          "data": {
            "text/plain": [
              "   age          workclass  fnlwgt   education  education-num  \\\n",
              "0   39          State-gov   77516   Bachelors             13   \n",
              "1   50   Self-emp-not-inc   83311   Bachelors             13   \n",
              "2   38            Private  215646     HS-grad              9   \n",
              "3   53            Private  234721        11th              7   \n",
              "4   28            Private  338409   Bachelors             13   \n",
              "\n",
              "        marital-status          occupation    relationship    race      sex  \\\n",
              "0        Never-married        Adm-clerical   Not-in-family   White     Male   \n",
              "1   Married-civ-spouse     Exec-managerial         Husband   White     Male   \n",
              "2             Divorced   Handlers-cleaners   Not-in-family   White     Male   \n",
              "3   Married-civ-spouse   Handlers-cleaners         Husband   Black     Male   \n",
              "4   Married-civ-spouse      Prof-specialty            Wife   Black   Female   \n",
              "\n",
              "   capital-gain  capital-loss  hours-per-week  native-country  Output  \n",
              "0          2174             0              40   United-States   <=50K  \n",
              "1             0             0              13   United-States   <=50K  \n",
              "2             0             0              40   United-States   <=50K  \n",
              "3             0             0              40   United-States   <=50K  \n",
              "4             0             0              40            Cuba   <=50K  "
            ],
            "text/html": [
              "\n",
              "  <div id=\"df-a94b9985-17ff-4eaa-9610-797a9aba3075\" class=\"colab-df-container\">\n",
              "    <div>\n",
              "<style scoped>\n",
              "    .dataframe tbody tr th:only-of-type {\n",
              "        vertical-align: middle;\n",
              "    }\n",
              "\n",
              "    .dataframe tbody tr th {\n",
              "        vertical-align: top;\n",
              "    }\n",
              "\n",
              "    .dataframe thead th {\n",
              "        text-align: right;\n",
              "    }\n",
              "</style>\n",
              "<table border=\"1\" class=\"dataframe\">\n",
              "  <thead>\n",
              "    <tr style=\"text-align: right;\">\n",
              "      <th></th>\n",
              "      <th>age</th>\n",
              "      <th>workclass</th>\n",
              "      <th>fnlwgt</th>\n",
              "      <th>education</th>\n",
              "      <th>education-num</th>\n",
              "      <th>marital-status</th>\n",
              "      <th>occupation</th>\n",
              "      <th>relationship</th>\n",
              "      <th>race</th>\n",
              "      <th>sex</th>\n",
              "      <th>capital-gain</th>\n",
              "      <th>capital-loss</th>\n",
              "      <th>hours-per-week</th>\n",
              "      <th>native-country</th>\n",
              "      <th>Output</th>\n",
              "    </tr>\n",
              "  </thead>\n",
              "  <tbody>\n",
              "    <tr>\n",
              "      <th>0</th>\n",
              "      <td>39</td>\n",
              "      <td>State-gov</td>\n",
              "      <td>77516</td>\n",
              "      <td>Bachelors</td>\n",
              "      <td>13</td>\n",
              "      <td>Never-married</td>\n",
              "      <td>Adm-clerical</td>\n",
              "      <td>Not-in-family</td>\n",
              "      <td>White</td>\n",
              "      <td>Male</td>\n",
              "      <td>2174</td>\n",
              "      <td>0</td>\n",
              "      <td>40</td>\n",
              "      <td>United-States</td>\n",
              "      <td>&lt;=50K</td>\n",
              "    </tr>\n",
              "    <tr>\n",
              "      <th>1</th>\n",
              "      <td>50</td>\n",
              "      <td>Self-emp-not-inc</td>\n",
              "      <td>83311</td>\n",
              "      <td>Bachelors</td>\n",
              "      <td>13</td>\n",
              "      <td>Married-civ-spouse</td>\n",
              "      <td>Exec-managerial</td>\n",
              "      <td>Husband</td>\n",
              "      <td>White</td>\n",
              "      <td>Male</td>\n",
              "      <td>0</td>\n",
              "      <td>0</td>\n",
              "      <td>13</td>\n",
              "      <td>United-States</td>\n",
              "      <td>&lt;=50K</td>\n",
              "    </tr>\n",
              "    <tr>\n",
              "      <th>2</th>\n",
              "      <td>38</td>\n",
              "      <td>Private</td>\n",
              "      <td>215646</td>\n",
              "      <td>HS-grad</td>\n",
              "      <td>9</td>\n",
              "      <td>Divorced</td>\n",
              "      <td>Handlers-cleaners</td>\n",
              "      <td>Not-in-family</td>\n",
              "      <td>White</td>\n",
              "      <td>Male</td>\n",
              "      <td>0</td>\n",
              "      <td>0</td>\n",
              "      <td>40</td>\n",
              "      <td>United-States</td>\n",
              "      <td>&lt;=50K</td>\n",
              "    </tr>\n",
              "    <tr>\n",
              "      <th>3</th>\n",
              "      <td>53</td>\n",
              "      <td>Private</td>\n",
              "      <td>234721</td>\n",
              "      <td>11th</td>\n",
              "      <td>7</td>\n",
              "      <td>Married-civ-spouse</td>\n",
              "      <td>Handlers-cleaners</td>\n",
              "      <td>Husband</td>\n",
              "      <td>Black</td>\n",
              "      <td>Male</td>\n",
              "      <td>0</td>\n",
              "      <td>0</td>\n",
              "      <td>40</td>\n",
              "      <td>United-States</td>\n",
              "      <td>&lt;=50K</td>\n",
              "    </tr>\n",
              "    <tr>\n",
              "      <th>4</th>\n",
              "      <td>28</td>\n",
              "      <td>Private</td>\n",
              "      <td>338409</td>\n",
              "      <td>Bachelors</td>\n",
              "      <td>13</td>\n",
              "      <td>Married-civ-spouse</td>\n",
              "      <td>Prof-specialty</td>\n",
              "      <td>Wife</td>\n",
              "      <td>Black</td>\n",
              "      <td>Female</td>\n",
              "      <td>0</td>\n",
              "      <td>0</td>\n",
              "      <td>40</td>\n",
              "      <td>Cuba</td>\n",
              "      <td>&lt;=50K</td>\n",
              "    </tr>\n",
              "  </tbody>\n",
              "</table>\n",
              "</div>\n",
              "    <div class=\"colab-df-buttons\">\n",
              "\n",
              "  <div class=\"colab-df-container\">\n",
              "    <button class=\"colab-df-convert\" onclick=\"convertToInteractive('df-a94b9985-17ff-4eaa-9610-797a9aba3075')\"\n",
              "            title=\"Convert this dataframe to an interactive table.\"\n",
              "            style=\"display:none;\">\n",
              "\n",
              "  <svg xmlns=\"http://www.w3.org/2000/svg\" height=\"24px\" viewBox=\"0 -960 960 960\">\n",
              "    <path d=\"M120-120v-720h720v720H120Zm60-500h600v-160H180v160Zm220 220h160v-160H400v160Zm0 220h160v-160H400v160ZM180-400h160v-160H180v160Zm440 0h160v-160H620v160ZM180-180h160v-160H180v160Zm440 0h160v-160H620v160Z\"/>\n",
              "  </svg>\n",
              "    </button>\n",
              "\n",
              "  <style>\n",
              "    .colab-df-container {\n",
              "      display:flex;\n",
              "      gap: 12px;\n",
              "    }\n",
              "\n",
              "    .colab-df-convert {\n",
              "      background-color: #E8F0FE;\n",
              "      border: none;\n",
              "      border-radius: 50%;\n",
              "      cursor: pointer;\n",
              "      display: none;\n",
              "      fill: #1967D2;\n",
              "      height: 32px;\n",
              "      padding: 0 0 0 0;\n",
              "      width: 32px;\n",
              "    }\n",
              "\n",
              "    .colab-df-convert:hover {\n",
              "      background-color: #E2EBFA;\n",
              "      box-shadow: 0px 1px 2px rgba(60, 64, 67, 0.3), 0px 1px 3px 1px rgba(60, 64, 67, 0.15);\n",
              "      fill: #174EA6;\n",
              "    }\n",
              "\n",
              "    .colab-df-buttons div {\n",
              "      margin-bottom: 4px;\n",
              "    }\n",
              "\n",
              "    [theme=dark] .colab-df-convert {\n",
              "      background-color: #3B4455;\n",
              "      fill: #D2E3FC;\n",
              "    }\n",
              "\n",
              "    [theme=dark] .colab-df-convert:hover {\n",
              "      background-color: #434B5C;\n",
              "      box-shadow: 0px 1px 3px 1px rgba(0, 0, 0, 0.15);\n",
              "      filter: drop-shadow(0px 1px 2px rgba(0, 0, 0, 0.3));\n",
              "      fill: #FFFFFF;\n",
              "    }\n",
              "  </style>\n",
              "\n",
              "    <script>\n",
              "      const buttonEl =\n",
              "        document.querySelector('#df-a94b9985-17ff-4eaa-9610-797a9aba3075 button.colab-df-convert');\n",
              "      buttonEl.style.display =\n",
              "        google.colab.kernel.accessAllowed ? 'block' : 'none';\n",
              "\n",
              "      async function convertToInteractive(key) {\n",
              "        const element = document.querySelector('#df-a94b9985-17ff-4eaa-9610-797a9aba3075');\n",
              "        const dataTable =\n",
              "          await google.colab.kernel.invokeFunction('convertToInteractive',\n",
              "                                                    [key], {});\n",
              "        if (!dataTable) return;\n",
              "\n",
              "        const docLinkHtml = 'Like what you see? Visit the ' +\n",
              "          '<a target=\"_blank\" href=https://colab.research.google.com/notebooks/data_table.ipynb>data table notebook</a>'\n",
              "          + ' to learn more about interactive tables.';\n",
              "        element.innerHTML = '';\n",
              "        dataTable['output_type'] = 'display_data';\n",
              "        await google.colab.output.renderOutput(dataTable, element);\n",
              "        const docLink = document.createElement('div');\n",
              "        docLink.innerHTML = docLinkHtml;\n",
              "        element.appendChild(docLink);\n",
              "      }\n",
              "    </script>\n",
              "  </div>\n",
              "\n",
              "\n",
              "<div id=\"df-c91f3ae7-d8ba-4631-88cd-3e5a040e0fde\">\n",
              "  <button class=\"colab-df-quickchart\" onclick=\"quickchart('df-c91f3ae7-d8ba-4631-88cd-3e5a040e0fde')\"\n",
              "            title=\"Suggest charts\"\n",
              "            style=\"display:none;\">\n",
              "\n",
              "<svg xmlns=\"http://www.w3.org/2000/svg\" height=\"24px\"viewBox=\"0 0 24 24\"\n",
              "     width=\"24px\">\n",
              "    <g>\n",
              "        <path d=\"M19 3H5c-1.1 0-2 .9-2 2v14c0 1.1.9 2 2 2h14c1.1 0 2-.9 2-2V5c0-1.1-.9-2-2-2zM9 17H7v-7h2v7zm4 0h-2V7h2v10zm4 0h-2v-4h2v4z\"/>\n",
              "    </g>\n",
              "</svg>\n",
              "  </button>\n",
              "\n",
              "<style>\n",
              "  .colab-df-quickchart {\n",
              "      --bg-color: #E8F0FE;\n",
              "      --fill-color: #1967D2;\n",
              "      --hover-bg-color: #E2EBFA;\n",
              "      --hover-fill-color: #174EA6;\n",
              "      --disabled-fill-color: #AAA;\n",
              "      --disabled-bg-color: #DDD;\n",
              "  }\n",
              "\n",
              "  [theme=dark] .colab-df-quickchart {\n",
              "      --bg-color: #3B4455;\n",
              "      --fill-color: #D2E3FC;\n",
              "      --hover-bg-color: #434B5C;\n",
              "      --hover-fill-color: #FFFFFF;\n",
              "      --disabled-bg-color: #3B4455;\n",
              "      --disabled-fill-color: #666;\n",
              "  }\n",
              "\n",
              "  .colab-df-quickchart {\n",
              "    background-color: var(--bg-color);\n",
              "    border: none;\n",
              "    border-radius: 50%;\n",
              "    cursor: pointer;\n",
              "    display: none;\n",
              "    fill: var(--fill-color);\n",
              "    height: 32px;\n",
              "    padding: 0;\n",
              "    width: 32px;\n",
              "  }\n",
              "\n",
              "  .colab-df-quickchart:hover {\n",
              "    background-color: var(--hover-bg-color);\n",
              "    box-shadow: 0 1px 2px rgba(60, 64, 67, 0.3), 0 1px 3px 1px rgba(60, 64, 67, 0.15);\n",
              "    fill: var(--button-hover-fill-color);\n",
              "  }\n",
              "\n",
              "  .colab-df-quickchart-complete:disabled,\n",
              "  .colab-df-quickchart-complete:disabled:hover {\n",
              "    background-color: var(--disabled-bg-color);\n",
              "    fill: var(--disabled-fill-color);\n",
              "    box-shadow: none;\n",
              "  }\n",
              "\n",
              "  .colab-df-spinner {\n",
              "    border: 2px solid var(--fill-color);\n",
              "    border-color: transparent;\n",
              "    border-bottom-color: var(--fill-color);\n",
              "    animation:\n",
              "      spin 1s steps(1) infinite;\n",
              "  }\n",
              "\n",
              "  @keyframes spin {\n",
              "    0% {\n",
              "      border-color: transparent;\n",
              "      border-bottom-color: var(--fill-color);\n",
              "      border-left-color: var(--fill-color);\n",
              "    }\n",
              "    20% {\n",
              "      border-color: transparent;\n",
              "      border-left-color: var(--fill-color);\n",
              "      border-top-color: var(--fill-color);\n",
              "    }\n",
              "    30% {\n",
              "      border-color: transparent;\n",
              "      border-left-color: var(--fill-color);\n",
              "      border-top-color: var(--fill-color);\n",
              "      border-right-color: var(--fill-color);\n",
              "    }\n",
              "    40% {\n",
              "      border-color: transparent;\n",
              "      border-right-color: var(--fill-color);\n",
              "      border-top-color: var(--fill-color);\n",
              "    }\n",
              "    60% {\n",
              "      border-color: transparent;\n",
              "      border-right-color: var(--fill-color);\n",
              "    }\n",
              "    80% {\n",
              "      border-color: transparent;\n",
              "      border-right-color: var(--fill-color);\n",
              "      border-bottom-color: var(--fill-color);\n",
              "    }\n",
              "    90% {\n",
              "      border-color: transparent;\n",
              "      border-bottom-color: var(--fill-color);\n",
              "    }\n",
              "  }\n",
              "</style>\n",
              "\n",
              "  <script>\n",
              "    async function quickchart(key) {\n",
              "      const quickchartButtonEl =\n",
              "        document.querySelector('#' + key + ' button');\n",
              "      quickchartButtonEl.disabled = true;  // To prevent multiple clicks.\n",
              "      quickchartButtonEl.classList.add('colab-df-spinner');\n",
              "      try {\n",
              "        const charts = await google.colab.kernel.invokeFunction(\n",
              "            'suggestCharts', [key], {});\n",
              "      } catch (error) {\n",
              "        console.error('Error during call to suggestCharts:', error);\n",
              "      }\n",
              "      quickchartButtonEl.classList.remove('colab-df-spinner');\n",
              "      quickchartButtonEl.classList.add('colab-df-quickchart-complete');\n",
              "    }\n",
              "    (() => {\n",
              "      let quickchartButtonEl =\n",
              "        document.querySelector('#df-c91f3ae7-d8ba-4631-88cd-3e5a040e0fde button');\n",
              "      quickchartButtonEl.style.display =\n",
              "        google.colab.kernel.accessAllowed ? 'block' : 'none';\n",
              "    })();\n",
              "  </script>\n",
              "</div>\n",
              "\n",
              "    </div>\n",
              "  </div>\n"
            ],
            "application/vnd.google.colaboratory.intrinsic+json": {
              "type": "dataframe",
              "variable_name": "df_train",
              "summary": "{\n  \"name\": \"df_train\",\n  \"rows\": 30162,\n  \"fields\": [\n    {\n      \"column\": \"age\",\n      \"properties\": {\n        \"dtype\": \"number\",\n        \"std\": 13,\n        \"min\": 17,\n        \"max\": 90,\n        \"num_unique_values\": 72,\n        \"samples\": [\n          28,\n          73,\n          35\n        ],\n        \"semantic_type\": \"\",\n        \"description\": \"\"\n      }\n    },\n    {\n      \"column\": \"workclass\",\n      \"properties\": {\n        \"dtype\": \"category\",\n        \"num_unique_values\": 7,\n        \"samples\": [\n          \" State-gov\",\n          \" Self-emp-not-inc\",\n          \" Self-emp-inc\"\n        ],\n        \"semantic_type\": \"\",\n        \"description\": \"\"\n      }\n    },\n    {\n      \"column\": \"fnlwgt\",\n      \"properties\": {\n        \"dtype\": \"number\",\n        \"std\": 105652,\n        \"min\": 13769,\n        \"max\": 1484705,\n        \"num_unique_values\": 20263,\n        \"samples\": [\n          238479,\n          268700,\n          297884\n        ],\n        \"semantic_type\": \"\",\n        \"description\": \"\"\n      }\n    },\n    {\n      \"column\": \"education\",\n      \"properties\": {\n        \"dtype\": \"category\",\n        \"num_unique_values\": 16,\n        \"samples\": [\n          \" Bachelors\",\n          \" HS-grad\",\n          \" Some-college\"\n        ],\n        \"semantic_type\": \"\",\n        \"description\": \"\"\n      }\n    },\n    {\n      \"column\": \"education-num\",\n      \"properties\": {\n        \"dtype\": \"number\",\n        \"std\": 2,\n        \"min\": 1,\n        \"max\": 16,\n        \"num_unique_values\": 16,\n        \"samples\": [\n          13,\n          9,\n          10\n        ],\n        \"semantic_type\": \"\",\n        \"description\": \"\"\n      }\n    },\n    {\n      \"column\": \"marital-status\",\n      \"properties\": {\n        \"dtype\": \"category\",\n        \"num_unique_values\": 7,\n        \"samples\": [\n          \" Never-married\",\n          \" Married-civ-spouse\",\n          \" Married-AF-spouse\"\n        ],\n        \"semantic_type\": \"\",\n        \"description\": \"\"\n      }\n    },\n    {\n      \"column\": \"occupation\",\n      \"properties\": {\n        \"dtype\": \"category\",\n        \"num_unique_values\": 14,\n        \"samples\": [\n          \" Tech-support\",\n          \" Protective-serv\",\n          \" Adm-clerical\"\n        ],\n        \"semantic_type\": \"\",\n        \"description\": \"\"\n      }\n    },\n    {\n      \"column\": \"relationship\",\n      \"properties\": {\n        \"dtype\": \"category\",\n        \"num_unique_values\": 6,\n        \"samples\": [\n          \" Not-in-family\",\n          \" Husband\",\n          \" Other-relative\"\n        ],\n        \"semantic_type\": \"\",\n        \"description\": \"\"\n      }\n    },\n    {\n      \"column\": \"race\",\n      \"properties\": {\n        \"dtype\": \"category\",\n        \"num_unique_values\": 5,\n        \"samples\": [\n          \" Black\",\n          \" Other\",\n          \" Asian-Pac-Islander\"\n        ],\n        \"semantic_type\": \"\",\n        \"description\": \"\"\n      }\n    },\n    {\n      \"column\": \"sex\",\n      \"properties\": {\n        \"dtype\": \"category\",\n        \"num_unique_values\": 2,\n        \"samples\": [\n          \" Female\",\n          \" Male\"\n        ],\n        \"semantic_type\": \"\",\n        \"description\": \"\"\n      }\n    },\n    {\n      \"column\": \"capital-gain\",\n      \"properties\": {\n        \"dtype\": \"number\",\n        \"std\": 7406,\n        \"min\": 0,\n        \"max\": 99999,\n        \"num_unique_values\": 118,\n        \"samples\": [\n          2829,\n          7896\n        ],\n        \"semantic_type\": \"\",\n        \"description\": \"\"\n      }\n    },\n    {\n      \"column\": \"capital-loss\",\n      \"properties\": {\n        \"dtype\": \"number\",\n        \"std\": 404,\n        \"min\": 0,\n        \"max\": 4356,\n        \"num_unique_values\": 90,\n        \"samples\": [\n          2205,\n          2377\n        ],\n        \"semantic_type\": \"\",\n        \"description\": \"\"\n      }\n    },\n    {\n      \"column\": \"hours-per-week\",\n      \"properties\": {\n        \"dtype\": \"number\",\n        \"std\": 11,\n        \"min\": 1,\n        \"max\": 99,\n        \"num_unique_values\": 94,\n        \"samples\": [\n          64,\n          56\n        ],\n        \"semantic_type\": \"\",\n        \"description\": \"\"\n      }\n    },\n    {\n      \"column\": \"native-country\",\n      \"properties\": {\n        \"dtype\": \"category\",\n        \"num_unique_values\": 41,\n        \"samples\": [\n          \" Guatemala\",\n          \" Columbia\"\n        ],\n        \"semantic_type\": \"\",\n        \"description\": \"\"\n      }\n    },\n    {\n      \"column\": \"Output\",\n      \"properties\": {\n        \"dtype\": \"category\",\n        \"num_unique_values\": 2,\n        \"samples\": [\n          \" >50K\",\n          \" <=50K\"\n        ],\n        \"semantic_type\": \"\",\n        \"description\": \"\"\n      }\n    }\n  ]\n}"
            }
          },
          "metadata": {},
          "execution_count": 57
        }
      ]
    },
    {
      "cell_type": "markdown",
      "source": [
        "> Observing the distribution of the incomes"
      ],
      "metadata": {
        "id": "10YI9uymsMwd"
      }
    },
    {
      "cell_type": "markdown",
      "source": [
        "#### Visualization"
      ],
      "metadata": {
        "id": "pYJ8ihGMWyhI"
      }
    },
    {
      "cell_type": "code",
      "source": [
        "income_counts = df_train['Output'].value_counts()\n",
        "\n",
        "print(\"Income Distribution:\")\n",
        "print(f'Above 50k: {income_counts.iloc[0]}')\n",
        "print(f'Below 50k: {income_counts.iloc[1]}')"
      ],
      "metadata": {
        "colab": {
          "base_uri": "https://localhost:8080/"
        },
        "id": "8Ow0u03Qkrr3",
        "outputId": "7ed0ed13-0863-4dc2-c977-1823b7108af3"
      },
      "execution_count": null,
      "outputs": [
        {
          "output_type": "stream",
          "name": "stdout",
          "text": [
            "Income Distribution:\n",
            "Above 50k: 22654\n",
            "Below 50k: 7508\n"
          ]
        }
      ]
    },
    {
      "cell_type": "code",
      "source": [
        "plt.figure(figsize=(4, 1.5))\n",
        "\n",
        "plt.bar(income_counts.index, income_counts.values, color=['salmon', 'aqua'])\n",
        "\n",
        "plt.title('Income Distribution')\n",
        "plt.xlabel('Income Level')\n",
        "plt.ylabel('Number of people')\n",
        "\n",
        "plt.show()"
      ],
      "metadata": {
        "id": "NAVBUIedlb5P",
        "colab": {
          "base_uri": "https://localhost:8080/",
          "height": 218
        },
        "outputId": "f829c984-04c7-4018-9836-013ce23b6579"
      },
      "execution_count": null,
      "outputs": [
        {
          "output_type": "display_data",
          "data": {
            "text/plain": [
              "<Figure size 400x150 with 1 Axes>"
            ],
            "image/png": "[encoded data removed]"
          },
          "metadata": {}
        }
      ]
    },
    {
      "cell_type": "markdown",
      "source": [
        "#### Pre Processing\n",
        "Assigning numerical values to strings in the data"
      ],
      "metadata": {
        "id": "KZJZAUKQqEuu"
      }
    },
    {
      "cell_type": "code",
      "source": [
        "categorical_columns = ['workclass', 'education', 'marital-status', 'occupation', 'relationship', 'race', 'sex', 'native-country']\n",
        "label_encoder = LabelEncoder()\n",
        "\n",
        "for col in categorical_columns:\n",
        "    df_train[col] = label_encoder.fit_transform(df_train[col])\n",
        "    df_test[col] = label_encoder.transform(df_test[col])"
      ],
      "metadata": {
        "id": "b1jRDwujn4Zn"
      },
      "execution_count": null,
      "outputs": []
    },
    {
      "cell_type": "markdown",
      "source": [
        "Scaling continous data using standard deviation"
      ],
      "metadata": {
        "id": "PoL8qfEAtj1M"
      }
    },
    {
      "cell_type": "code",
      "source": [
        "continuous_columns = ['age', 'fnlwgt', 'education-num', 'capital-gain', 'capital-loss', 'hours-per-week']\n",
        "scaler = StandardScaler()\n",
        "\n",
        "df_train[continuous_columns] = scaler.fit_transform(df_train[continuous_columns])\n",
        "df_test[continuous_columns] = scaler.transform(df_test[continuous_columns])"
      ],
      "metadata": {
        "id": "NqmEns8rth08"
      },
      "execution_count": null,
      "outputs": []
    },
    {
      "cell_type": "markdown",
      "source": [
        "> Assigning binary values to the outputs.\n",
        "\n",
        ">> Output | Value\n",
        ">> --- | ---\n",
        ">> '<=50K' | 0\n",
        ">> '>50K' | 1"
      ],
      "metadata": {
        "id": "C_0Mbj14twYH"
      }
    },
    {
      "cell_type": "code",
      "source": [
        "possible_outputs_train = df_train['Output'].unique()\n",
        "possible_outputs_test = df_test['Output'].unique()\n",
        "\n",
        "df_train['Output'] = df_train['Output'].apply(lambda x: 0 if x == possible_outputs_train[0] else 1)\n",
        "df_test['Output'] = df_test['Output'].apply(lambda x: 0 if x == possible_outputs_test[0] else 1)"
      ],
      "metadata": {
        "id": "wcCReW4Qmlq0"
      },
      "execution_count": null,
      "outputs": []
    },
    {
      "cell_type": "code",
      "source": [
        "print(f\"Preprocessed training dataframe\")\n",
        "df_train.head()"
      ],
      "metadata": {
        "colab": {
          "base_uri": "https://localhost:8080/",
          "height": 223
        },
        "id": "UPH-dZJRXTP4",
        "outputId": "c7badcaa-7f81-41fa-af1b-3de61739639b",
        "collapsed": true
      },
      "execution_count": null,
      "outputs": [
        {
          "output_type": "stream",
          "name": "stdout",
          "text": [
            "Preprocessed training dataframe\n"
          ]
        },
        {
          "output_type": "execute_result",
          "data": {
            "text/plain": [
              "        age  workclass    fnlwgt  education  education-num  marital-status  \\\n",
              "0  0.042796          5 -1.062722          9       1.128918               4   \n",
              "1  0.880288          4 -1.007871          9       1.128918               2   \n",
              "2 -0.033340          2  0.244693         11      -0.439738               0   \n",
              "3  1.108695          2  0.425240          1      -1.224066               2   \n",
              "4 -0.794697          2  1.406658          9       1.128918               2   \n",
              "\n",
              "   occupation  relationship  race  sex  capital-gain  capital-loss  \\\n",
              "0           0             1     4    1      0.146092     -0.218586   \n",
              "1           3             0     4    1     -0.147445     -0.218586   \n",
              "2           5             1     4    1     -0.147445     -0.218586   \n",
              "3           5             0     2    1     -0.147445     -0.218586   \n",
              "4           9             5     2    0     -0.147445     -0.218586   \n",
              "\n",
              "   hours-per-week  native-country  Output  \n",
              "0       -0.077734              38       0  \n",
              "1       -2.331531              38       0  \n",
              "2       -0.077734              38       0  \n",
              "3       -0.077734              38       0  \n",
              "4       -0.077734               4       0  "
            ],
            "text/html": [
              "\n",
              "  <div id=\"df-6dc4a2f0-435a-4aee-8f71-aff3c42fd8e5\" class=\"colab-df-container\">\n",
              "    <div>\n",
              "<style scoped>\n",
              "    .dataframe tbody tr th:only-of-type {\n",
              "        vertical-align: middle;\n",
              "    }\n",
              "\n",
              "    .dataframe tbody tr th {\n",
              "        vertical-align: top;\n",
              "    }\n",
              "\n",
              "    .dataframe thead th {\n",
              "        text-align: right;\n",
              "    }\n",
              "</style>\n",
              "<table border=\"1\" class=\"dataframe\">\n",
              "  <thead>\n",
              "    <tr style=\"text-align: right;\">\n",
              "      <th></th>\n",
              "      <th>age</th>\n",
              "      <th>workclass</th>\n",
              "      <th>fnlwgt</th>\n",
              "      <th>education</th>\n",
              "      <th>education-num</th>\n",
              "      <th>marital-status</th>\n",
              "      <th>occupation</th>\n",
              "      <th>relationship</th>\n",
              "      <th>race</th>\n",
              "      <th>sex</th>\n",
              "      <th>capital-gain</th>\n",
              "      <th>capital-loss</th>\n",
              "      <th>hours-per-week</th>\n",
              "      <th>native-country</th>\n",
              "      <th>Output</th>\n",
              "    </tr>\n",
              "  </thead>\n",
              "  <tbody>\n",
              "    <tr>\n",
              "      <th>0</th>\n",
              "      <td>0.042796</td>\n",
              "      <td>5</td>\n",
              "      <td>-1.062722</td>\n",
              "      <td>9</td>\n",
              "      <td>1.128918</td>\n",
              "      <td>4</td>\n",
              "      <td>0</td>\n",
              "      <td>1</td>\n",
              "      <td>4</td>\n",
              "      <td>1</td>\n",
              "      <td>0.146092</td>\n",
              "      <td>-0.218586</td>\n",
              "      <td>-0.077734</td>\n",
              "      <td>38</td>\n",
              "      <td>0</td>\n",
              "    </tr>\n",
              "    <tr>\n",
              "      <th>1</th>\n",
              "      <td>0.880288</td>\n",
              "      <td>4</td>\n",
              "      <td>-1.007871</td>\n",
              "      <td>9</td>\n",
              "      <td>1.128918</td>\n",
              "      <td>2</td>\n",
              "      <td>3</td>\n",
              "      <td>0</td>\n",
              "      <td>4</td>\n",
              "      <td>1</td>\n",
              "      <td>-0.147445</td>\n",
              "      <td>-0.218586</td>\n",
              "      <td>-2.331531</td>\n",
              "      <td>38</td>\n",
              "      <td>0</td>\n",
              "    </tr>\n",
              "    <tr>\n",
              "      <th>2</th>\n",
              "      <td>-0.033340</td>\n",
              "      <td>2</td>\n",
              "      <td>0.244693</td>\n",
              "      <td>11</td>\n",
              "      <td>-0.439738</td>\n",
              "      <td>0</td>\n",
              "      <td>5</td>\n",
              "      <td>1</td>\n",
              "      <td>4</td>\n",
              "      <td>1</td>\n",
              "      <td>-0.147445</td>\n",
              "      <td>-0.218586</td>\n",
              "      <td>-0.077734</td>\n",
              "      <td>38</td>\n",
              "      <td>0</td>\n",
              "    </tr>\n",
              "    <tr>\n",
              "      <th>3</th>\n",
              "      <td>1.108695</td>\n",
              "      <td>2</td>\n",
              "      <td>0.425240</td>\n",
              "      <td>1</td>\n",
              "      <td>-1.224066</td>\n",
              "      <td>2</td>\n",
              "      <td>5</td>\n",
              "      <td>0</td>\n",
              "      <td>2</td>\n",
              "      <td>1</td>\n",
              "      <td>-0.147445</td>\n",
              "      <td>-0.218586</td>\n",
              "      <td>-0.077734</td>\n",
              "      <td>38</td>\n",
              "      <td>0</td>\n",
              "    </tr>\n",
              "    <tr>\n",
              "      <th>4</th>\n",
              "      <td>-0.794697</td>\n",
              "      <td>2</td>\n",
              "      <td>1.406658</td>\n",
              "      <td>9</td>\n",
              "      <td>1.128918</td>\n",
              "      <td>2</td>\n",
              "      <td>9</td>\n",
              "      <td>5</td>\n",
              "      <td>2</td>\n",
              "      <td>0</td>\n",
              "      <td>-0.147445</td>\n",
              "      <td>-0.218586</td>\n",
              "      <td>-0.077734</td>\n",
              "      <td>4</td>\n",
              "      <td>0</td>\n",
              "    </tr>\n",
              "  </tbody>\n",
              "</table>\n",
              "</div>\n",
              "    <div class=\"colab-df-buttons\">\n",
              "\n",
              "  <div class=\"colab-df-container\">\n",
              "    <button class=\"colab-df-convert\" onclick=\"convertToInteractive('df-6dc4a2f0-435a-4aee-8f71-aff3c42fd8e5')\"\n",
              "            title=\"Convert this dataframe to an interactive table.\"\n",
              "            style=\"display:none;\">\n",
              "\n",
              "  <svg xmlns=\"http://www.w3.org/2000/svg\" height=\"24px\" viewBox=\"0 -960 960 960\">\n",
              "    <path d=\"M120-120v-720h720v720H120Zm60-500h600v-160H180v160Zm220 220h160v-160H400v160Zm0 220h160v-160H400v160ZM180-400h160v-160H180v160Zm440 0h160v-160H620v160ZM180-180h160v-160H180v160Zm440 0h160v-160H620v160Z\"/>\n",
              "  </svg>\n",
              "    </button>\n",
              "\n",
              "  <style>\n",
              "    .colab-df-container {\n",
              "      display:flex;\n",
              "      gap: 12px;\n",
              "    }\n",
              "\n",
              "    .colab-df-convert {\n",
              "      background-color: #E8F0FE;\n",
              "      border: none;\n",
              "      border-radius: 50%;\n",
              "      cursor: pointer;\n",
              "      display: none;\n",
              "      fill: #1967D2;\n",
              "      height: 32px;\n",
              "      padding: 0 0 0 0;\n",
              "      width: 32px;\n",
              "    }\n",
              "\n",
              "    .colab-df-convert:hover {\n",
              "      background-color: #E2EBFA;\n",
              "      box-shadow: 0px 1px 2px rgba(60, 64, 67, 0.3), 0px 1px 3px 1px rgba(60, 64, 67, 0.15);\n",
              "      fill: #174EA6;\n",
              "    }\n",
              "\n",
              "    .colab-df-buttons div {\n",
              "      margin-bottom: 4px;\n",
              "    }\n",
              "\n",
              "    [theme=dark] .colab-df-convert {\n",
              "      background-color: #3B4455;\n",
              "      fill: #D2E3FC;\n",
              "    }\n",
              "\n",
              "    [theme=dark] .colab-df-convert:hover {\n",
              "      background-color: #434B5C;\n",
              "      box-shadow: 0px 1px 3px 1px rgba(0, 0, 0, 0.15);\n",
              "      filter: drop-shadow(0px 1px 2px rgba(0, 0, 0, 0.3));\n",
              "      fill: #FFFFFF;\n",
              "    }\n",
              "  </style>\n",
              "\n",
              "    <script>\n",
              "      const buttonEl =\n",
              "        document.querySelector('#df-6dc4a2f0-435a-4aee-8f71-aff3c42fd8e5 button.colab-df-convert');\n",
              "      buttonEl.style.display =\n",
              "        google.colab.kernel.accessAllowed ? 'block' : 'none';\n",
              "\n",
              "      async function convertToInteractive(key) {\n",
              "        const element = document.querySelector('#df-6dc4a2f0-435a-4aee-8f71-aff3c42fd8e5');\n",
              "        const dataTable =\n",
              "          await google.colab.kernel.invokeFunction('convertToInteractive',\n",
              "                                                    [key], {});\n",
              "        if (!dataTable) return;\n",
              "\n",
              "        const docLinkHtml = 'Like what you see? Visit the ' +\n",
              "          '<a target=\"_blank\" href=https://colab.research.google.com/notebooks/data_table.ipynb>data table notebook</a>'\n",
              "          + ' to learn more about interactive tables.';\n",
              "        element.innerHTML = '';\n",
              "        dataTable['output_type'] = 'display_data';\n",
              "        await google.colab.output.renderOutput(dataTable, element);\n",
              "        const docLink = document.createElement('div');\n",
              "        docLink.innerHTML = docLinkHtml;\n",
              "        element.appendChild(docLink);\n",
              "      }\n",
              "    </script>\n",
              "  </div>\n",
              "\n",
              "\n",
              "<div id=\"df-3d2a7988-8048-49b6-97c8-a73279c75426\">\n",
              "  <button class=\"colab-df-quickchart\" onclick=\"quickchart('df-3d2a7988-8048-49b6-97c8-a73279c75426')\"\n",
              "            title=\"Suggest charts\"\n",
              "            style=\"display:none;\">\n",
              "\n",
              "<svg xmlns=\"http://www.w3.org/2000/svg\" height=\"24px\"viewBox=\"0 0 24 24\"\n",
              "     width=\"24px\">\n",
              "    <g>\n",
              "        <path d=\"M19 3H5c-1.1 0-2 .9-2 2v14c0 1.1.9 2 2 2h14c1.1 0 2-.9 2-2V5c0-1.1-.9-2-2-2zM9 17H7v-7h2v7zm4 0h-2V7h2v10zm4 0h-2v-4h2v4z\"/>\n",
              "    </g>\n",
              "</svg>\n",
              "  </button>\n",
              "\n",
              "<style>\n",
              "  .colab-df-quickchart {\n",
              "      --bg-color: #E8F0FE;\n",
              "      --fill-color: #1967D2;\n",
              "      --hover-bg-color: #E2EBFA;\n",
              "      --hover-fill-color: #174EA6;\n",
              "      --disabled-fill-color: #AAA;\n",
              "      --disabled-bg-color: #DDD;\n",
              "  }\n",
              "\n",
              "  [theme=dark] .colab-df-quickchart {\n",
              "      --bg-color: #3B4455;\n",
              "      --fill-color: #D2E3FC;\n",
              "      --hover-bg-color: #434B5C;\n",
              "      --hover-fill-color: #FFFFFF;\n",
              "      --disabled-bg-color: #3B4455;\n",
              "      --disabled-fill-color: #666;\n",
              "  }\n",
              "\n",
              "  .colab-df-quickchart {\n",
              "    background-color: var(--bg-color);\n",
              "    border: none;\n",
              "    border-radius: 50%;\n",
              "    cursor: pointer;\n",
              "    display: none;\n",
              "    fill: var(--fill-color);\n",
              "    height: 32px;\n",
              "    padding: 0;\n",
              "    width: 32px;\n",
              "  }\n",
              "\n",
              "  .colab-df-quickchart:hover {\n",
              "    background-color: var(--hover-bg-color);\n",
              "    box-shadow: 0 1px 2px rgba(60, 64, 67, 0.3), 0 1px 3px 1px rgba(60, 64, 67, 0.15);\n",
              "    fill: var(--button-hover-fill-color);\n",
              "  }\n",
              "\n",
              "  .colab-df-quickchart-complete:disabled,\n",
              "  .colab-df-quickchart-complete:disabled:hover {\n",
              "    background-color: var(--disabled-bg-color);\n",
              "    fill: var(--disabled-fill-color);\n",
              "    box-shadow: none;\n",
              "  }\n",
              "\n",
              "  .colab-df-spinner {\n",
              "    border: 2px solid var(--fill-color);\n",
              "    border-color: transparent;\n",
              "    border-bottom-color: var(--fill-color);\n",
              "    animation:\n",
              "      spin 1s steps(1) infinite;\n",
              "  }\n",
              "\n",
              "  @keyframes spin {\n",
              "    0% {\n",
              "      border-color: transparent;\n",
              "      border-bottom-color: var(--fill-color);\n",
              "      border-left-color: var(--fill-color);\n",
              "    }\n",
              "    20% {\n",
              "      border-color: transparent;\n",
              "      border-left-color: var(--fill-color);\n",
              "      border-top-color: var(--fill-color);\n",
              "    }\n",
              "    30% {\n",
              "      border-color: transparent;\n",
              "      border-left-color: var(--fill-color);\n",
              "      border-top-color: var(--fill-color);\n",
              "      border-right-color: var(--fill-color);\n",
              "    }\n",
              "    40% {\n",
              "      border-color: transparent;\n",
              "      border-right-color: var(--fill-color);\n",
              "      border-top-color: var(--fill-color);\n",
              "    }\n",
              "    60% {\n",
              "      border-color: transparent;\n",
              "      border-right-color: var(--fill-color);\n",
              "    }\n",
              "    80% {\n",
              "      border-color: transparent;\n",
              "      border-right-color: var(--fill-color);\n",
              "      border-bottom-color: var(--fill-color);\n",
              "    }\n",
              "    90% {\n",
              "      border-color: transparent;\n",
              "      border-bottom-color: var(--fill-color);\n",
              "    }\n",
              "  }\n",
              "</style>\n",
              "\n",
              "  <script>\n",
              "    async function quickchart(key) {\n",
              "      const quickchartButtonEl =\n",
              "        document.querySelector('#' + key + ' button');\n",
              "      quickchartButtonEl.disabled = true;  // To prevent multiple clicks.\n",
              "      quickchartButtonEl.classList.add('colab-df-spinner');\n",
              "      try {\n",
              "        const charts = await google.colab.kernel.invokeFunction(\n",
              "            'suggestCharts', [key], {});\n",
              "      } catch (error) {\n",
              "        console.error('Error during call to suggestCharts:', error);\n",
              "      }\n",
              "      quickchartButtonEl.classList.remove('colab-df-spinner');\n",
              "      quickchartButtonEl.classList.add('colab-df-quickchart-complete');\n",
              "    }\n",
              "    (() => {\n",
              "      let quickchartButtonEl =\n",
              "        document.querySelector('#df-3d2a7988-8048-49b6-97c8-a73279c75426 button');\n",
              "      quickchartButtonEl.style.display =\n",
              "        google.colab.kernel.accessAllowed ? 'block' : 'none';\n",
              "    })();\n",
              "  </script>\n",
              "</div>\n",
              "\n",
              "    </div>\n",
              "  </div>\n"
            ],
            "application/vnd.google.colaboratory.intrinsic+json": {
              "type": "dataframe",
              "variable_name": "df_train",
              "summary": "{\n  \"name\": \"df_train\",\n  \"rows\": 30162,\n  \"fields\": [\n    {\n      \"column\": \"age\",\n      \"properties\": {\n        \"dtype\": \"number\",\n        \"std\": 1.0000165775622634,\n        \"min\": -1.632189153530554,\n        \"max\": 3.9257151708095672,\n        \"num_unique_values\": 72,\n        \"samples\": [\n          -0.7946967210957411,\n          2.631408684319402,\n          -0.26174699136449664\n        ],\n        \"semantic_type\": \"\",\n        \"description\": \"\"\n      }\n    },\n    {\n      \"column\": \"workclass\",\n      \"properties\": {\n        \"dtype\": \"number\",\n        \"std\": 0,\n        \"min\": 0,\n        \"max\": 6,\n        \"num_unique_values\": 7,\n        \"samples\": [\n          5,\n          4,\n          3\n        ],\n        \"semantic_type\": \"\",\n        \"description\": \"\"\n      }\n    },\n    {\n      \"column\": \"fnlwgt\",\n      \"properties\": {\n        \"dtype\": \"number\",\n        \"std\": 1.0000165775622694,\n        \"min\": -1.6660937164956222,\n        \"max\": 12.256471482118583,\n        \"num_unique_values\": 20263,\n        \"samples\": [\n          0.4608102587831105,\n          0.7468552280185633,\n          1.0230848823042404\n        ],\n        \"semantic_type\": \"\",\n        \"description\": \"\"\n      }\n    },\n    {\n      \"column\": \"education\",\n      \"properties\": {\n        \"dtype\": \"number\",\n        \"std\": 3,\n        \"min\": 0,\n        \"max\": 15,\n        \"num_unique_values\": 16,\n        \"samples\": [\n          9,\n          11,\n          15\n        ],\n        \"semantic_type\": \"\",\n        \"description\": \"\"\n      }\n    },\n    {\n      \"column\": \"education-num\",\n      \"properties\": {\n        \"dtype\": \"number\",\n        \"std\": 1.0000165775622052,\n        \"min\": -3.5770513602877094,\n        \"max\": 2.305410817385674,\n        \"num_unique_values\": 16,\n        \"samples\": [\n          1.1289183818509974,\n          -0.4397381988619049,\n          -0.04757405368367934\n        ],\n        \"semantic_type\": \"\",\n        \"description\": \"\"\n      }\n    },\n    {\n      \"column\": \"marital-status\",\n      \"properties\": {\n        \"dtype\": \"number\",\n        \"std\": 1,\n        \"min\": 0,\n        \"max\": 6,\n        \"num_unique_values\": 7,\n        \"samples\": [\n          4,\n          2,\n          1\n        ],\n        \"semantic_type\": \"\",\n        \"description\": \"\"\n      }\n    },\n    {\n      \"column\": \"occupation\",\n      \"properties\": {\n        \"dtype\": \"number\",\n        \"std\": 4,\n        \"min\": 0,\n        \"max\": 13,\n        \"num_unique_values\": 14,\n        \"samples\": [\n          12,\n          10,\n          0\n        ],\n        \"semantic_type\": \"\",\n        \"description\": \"\"\n      }\n    },\n    {\n      \"column\": \"relationship\",\n      \"properties\": {\n        \"dtype\": \"number\",\n        \"std\": 1,\n        \"min\": 0,\n        \"max\": 5,\n        \"num_unique_values\": 6,\n        \"samples\": [\n          1,\n          0,\n          2\n        ],\n        \"semantic_type\": \"\",\n        \"description\": \"\"\n      }\n    },\n    {\n      \"column\": \"race\",\n      \"properties\": {\n        \"dtype\": \"number\",\n        \"std\": 0,\n        \"min\": 0,\n        \"max\": 4,\n        \"num_unique_values\": 5,\n        \"samples\": [\n          2,\n          3,\n          1\n        ],\n        \"semantic_type\": \"\",\n        \"description\": \"\"\n      }\n    },\n    {\n      \"column\": \"sex\",\n      \"properties\": {\n        \"dtype\": \"number\",\n        \"std\": 0,\n        \"min\": 0,\n        \"max\": 1,\n        \"num_unique_values\": 2,\n        \"samples\": [\n          0,\n          1\n        ],\n        \"semantic_type\": \"\",\n        \"description\": \"\"\n      }\n    },\n    {\n      \"column\": \"capital-gain\",\n      \"properties\": {\n        \"dtype\": \"number\",\n        \"std\": 1.0000165775623684,\n        \"min\": -0.14744462210705175,\n        \"max\": 13.35457797222187,\n        \"num_unique_values\": 118,\n        \"samples\": [\n          0.23453141684690296,\n          0.9186857432448133\n        ],\n        \"semantic_type\": \"\",\n        \"description\": \"\"\n      }\n    },\n    {\n      \"column\": \"capital-loss\",\n      \"properties\": {\n        \"dtype\": \"number\",\n        \"std\": 1.000016577561933,\n        \"min\": -0.21858597514475184,\n        \"max\": 10.555813651103664,\n        \"num_unique_values\": 90,\n        \"samples\": [\n          5.235397306737194,\n          5.660832737342044\n        ],\n        \"semantic_type\": \"\",\n        \"description\": \"\"\n      }\n    },\n    {\n      \"column\": \"hours-per-week\",\n      \"properties\": {\n        \"dtype\": \"number\",\n        \"std\": 1.0000165775624248,\n        \"min\": -3.3332180727392635,\n        \"max\": 4.847228806449517,\n        \"num_unique_values\": 94,\n        \"samples\": [\n          1.9256406353106668,\n          1.2578490533360724\n        ],\n        \"semantic_type\": \"\",\n        \"description\": \"\"\n      }\n    },\n    {\n      \"column\": \"native-country\",\n      \"properties\": {\n        \"dtype\": \"number\",\n        \"std\": 6,\n        \"min\": 0,\n        \"max\": 40,\n        \"num_unique_values\": 41,\n        \"samples\": [\n          12,\n          3\n        ],\n        \"semantic_type\": \"\",\n        \"description\": \"\"\n      }\n    },\n    {\n      \"column\": \"Output\",\n      \"properties\": {\n        \"dtype\": \"number\",\n        \"std\": 0,\n        \"min\": 0,\n        \"max\": 1,\n        \"num_unique_values\": 2,\n        \"samples\": [\n          1,\n          0\n        ],\n        \"semantic_type\": \"\",\n        \"description\": \"\"\n      }\n    }\n  ]\n}"
            }
          },
          "metadata": {},
          "execution_count": 63
        }
      ]
    },
    {
      "cell_type": "markdown",
      "source": [
        "> Placing the data in tensors."
      ],
      "metadata": {
        "id": "IWkYN15aun2-"
      }
    },
    {
      "cell_type": "code",
      "source": [
        "X_train = df_train.drop('Output', axis=1).values\n",
        "y_train = df_train['Output'].values\n",
        "X_test = df_test.drop('Output', axis=1).values\n",
        "y_test = df_test['Output'].values\n",
        "\n",
        "X_train, X_val, y_train, y_val = train_test_split(\n",
        "    X_train, y_train, test_size=0.2, random_state=21, stratify=y_train\n",
        ")"
      ],
      "metadata": {
        "id": "eeNIoaByQaiQ"
      },
      "execution_count": null,
      "outputs": []
    },
    {
      "cell_type": "code",
      "source": [
        "X_train = torch.tensor(X_train, dtype=torch.float32)\n",
        "y_train = torch.tensor(y_train, dtype=torch.int)\n",
        "X_val = torch.tensor(X_val, dtype=torch.float32)\n",
        "y_val = torch.tensor(y_val, dtype=torch.int)\n",
        "\n",
        "X_test = torch.tensor(X_test, dtype=torch.float32)\n",
        "y_test = torch.tensor(y_test, dtype=torch.int)\n",
        "\n",
        "device = torch.device(\"cuda\" if torch.cuda.is_available() else \"cpu\")\n",
        "\n",
        "X_train = X_train.to(device)\n",
        "y_train = y_train.to(device)\n",
        "X_val = X_val.to(device)\n",
        "y_val = y_val.to(device)\n",
        "\n",
        "X_test = X_test.to(device)\n",
        "y_test = y_test.to(device)"
      ],
      "metadata": {
        "id": "dVys7wuQulUW"
      },
      "execution_count": null,
      "outputs": []
    },
    {
      "cell_type": "markdown",
      "source": [
        "### Model Definition"
      ],
      "metadata": {
        "id": "t5Gi9viMuzZQ"
      }
    },
    {
      "cell_type": "markdown",
      "source": [
        "The model consists of:\n",
        "> Layer | Input Size | Output Size | Activation\n",
        "> --- | --- | --- | ---\n",
        "> Fully Connected 1 | 14 | 512 |\tLeaky ReLU\n",
        "> BatchNorm 1| 512 |\t512 |\t-\n",
        "> Dropout 1 |\t512 |\t512 |\t-\n",
        "> Fully Connected 2 |\t512 |\t256 |\tLeaky ReLU\n",
        "> Dropout 2 |\t256 |\t256 |\t-\n",
        "> Fully Connected 3 | 256 | 128 |\tLeaky ReLU\n",
        "> BatchNorm 2| 128 |\t128 |\t-\n",
        "> Dropout 3 |\t128 |\t128 |\t-\n",
        "> Fully Connected 4 | 128 | 64 |\tLeaky ReLU\n",
        "> Fully Connected 5 | 64 | 32 |\tLeaky ReLU\n",
        "> BatchNorm 3| 32 |\t32 |\t-\n",
        "> Dropout 4 |\t32 |\t32 |\t-\n",
        "> Fully Connected 6 | 32 | 1 |\t-"
      ],
      "metadata": {
        "id": "UqnXy-TCvLsR"
      }
    },
    {
      "cell_type": "code",
      "source": [
        "class IncomePredictionModel(nn.Module):\n",
        "    def __init__(self, input_size):\n",
        "        super(IncomePredictionModel, self).__init__()\n",
        "        self.fc1 = nn.Linear(input_size, 512)\n",
        "        self.bn1 = nn.BatchNorm1d(512)\n",
        "\n",
        "        self.fc2 = nn.Linear(512, 256)\n",
        "        self.fc3 = nn.Linear(256, 128)\n",
        "        self.bn2 = nn.BatchNorm1d(128)\n",
        "        self.fc4 = nn.Linear(128, 64)\n",
        "\n",
        "        self.fc5 = nn.Linear(64, 32)\n",
        "        self.bn3 = nn.BatchNorm1d(32)\n",
        "\n",
        "        self.fc6 = nn.Linear(32, 1)\n",
        "        self.dropout = nn.Dropout(0.5)\n",
        "\n",
        "    def forward(self, x):\n",
        "        x = F.leaky_relu(self.bn1(self.fc1(x)))\n",
        "        x = F.leaky_relu(self.fc2(x))\n",
        "        x = self.dropout(x)\n",
        "        x = F.leaky_relu(self.bn2(self.fc3(x)))\n",
        "        x = self.dropout(x)\n",
        "        x = F.leaky_relu(self.fc4(x))\n",
        "        x = F.leaky_relu(self.bn3(self.fc5(x)))\n",
        "        x = self.dropout(x)\n",
        "        x = self.fc6(x)\n",
        "        return x\n",
        "\n",
        "input_size = X_train.shape[1]\n",
        "model = IncomePredictionModel(input_size).to(device)\n",
        "\n",
        "criterion = nn.BCEWithLogitsLoss()\n",
        "optimizer = optim.Adam(model.parameters(), lr=0.001, weight_decay=0.001)\n",
        "scheduler = torch.optim.lr_scheduler.ReduceLROnPlateau(optimizer, 'min', patience=5, factor=0.5)"
      ],
      "metadata": {
        "id": "zx7d6v6Ml3tJ"
      },
      "execution_count": null,
      "outputs": []
    },
    {
      "cell_type": "code",
      "source": [
        "print(model)"
      ],
      "metadata": {
        "colab": {
          "base_uri": "https://localhost:8080/"
        },
        "id": "3YEqas9zM6c0",
        "outputId": "063d47ff-5f0a-416a-ffa8-c15d2b09b60e"
      },
      "execution_count": null,
      "outputs": [
        {
          "output_type": "stream",
          "name": "stdout",
          "text": [
            "IncomePredictionModel(\n",
            "  (fc1): Linear(in_features=14, out_features=512, bias=True)\n",
            "  (bn1): BatchNorm1d(512, eps=1e-05, momentum=0.1, affine=True, track_running_stats=True)\n",
            "  (fc2): Linear(in_features=512, out_features=256, bias=True)\n",
            "  (fc3): Linear(in_features=256, out_features=128, bias=True)\n",
            "  (bn2): BatchNorm1d(128, eps=1e-05, momentum=0.1, affine=True, track_running_stats=True)\n",
            "  (fc4): Linear(in_features=128, out_features=64, bias=True)\n",
            "  (fc5): Linear(in_features=64, out_features=32, bias=True)\n",
            "  (bn3): BatchNorm1d(32, eps=1e-05, momentum=0.1, affine=True, track_running_stats=True)\n",
            "  (fc6): Linear(in_features=32, out_features=1, bias=True)\n",
            "  (dropout): Dropout(p=0.5, inplace=False)\n",
            ")\n"
          ]
        }
      ]
    },
    {
      "cell_type": "markdown",
      "source": [
        "The model has 183,617 trainable parameters.\n",
        "\n",
        "Input - FC1: $$ 14 \\cdot 512 + 512 = 7680$$\n",
        "FC1 - BN1: $$ 512 \\cdot 2 = 1024$$\n",
        "BN1 - FC2: $$ 512 \\cdot 256 + 256 = 131328$$\n",
        "FC2 - FC3: $$ 256 \\cdot 128 + 128 = 32896$$\n",
        "FC3 - BN2: $$ 128 \\cdot 2 = 256$$\n",
        "BN2 - FC4: $$ 128 \\cdot 64 + 64 = 8256$$\n",
        "FC4 - FC5: $$ 64 \\cdot 32 + 32 = 2080$$\n",
        "FC5 - BN3: $$ 32 \\cdot 2 = 64$$\n",
        "BN3 - FC6: $$ 32 \\cdot 1 + 1 = 33$$\n",
        "<br>\n",
        "<font color='aqua'>\n",
        "$$ TOTAL-PARAMATERS=183,617 $$\n",
        "</font>"
      ],
      "metadata": {
        "id": "cEKsZf420eY_"
      }
    },
    {
      "cell_type": "markdown",
      "source": [
        "We decided to utilize Binary Cross-Entropy log loss since this task requires us to classify samples.\n",
        "<br>\n",
        "The optimizer we used is adam since it performs well for most tasks. The learning rate we used is 0.001 with weight decay (L2 Regularization) of 0.001."
      ],
      "metadata": {
        "id": "YiqebfTSwn0h"
      }
    },
    {
      "cell_type": "markdown",
      "source": [
        "#### Training and Testing"
      ],
      "metadata": {
        "id": "sOz8sZrFxHJg"
      }
    },
    {
      "cell_type": "code",
      "source": [
        "def train_model(model, criterion, optimizer, X_train, y_train, X_val, y_val, scheduler=None, patience=7, num_epochs=100):\n",
        "    train_dataset = TensorDataset(X_train, y_train)\n",
        "    train_loader = DataLoader(train_dataset, batch_size=2048, shuffle=True)\n",
        "\n",
        "    best_val_loss = float('inf')\n",
        "    epochs_no_improve = 0\n",
        "\n",
        "    train_losses = []\n",
        "    train_accuracies = []\n",
        "    val_losses = []\n",
        "    val_accuracies = []\n",
        "\n",
        "    for epoch in range(num_epochs):\n",
        "        model.train()\n",
        "        running_loss = 0.0\n",
        "        correct = 0\n",
        "        total = 0\n",
        "\n",
        "        for batch_X, batch_y in train_loader:\n",
        "            optimizer.zero_grad()\n",
        "            outputs = model(batch_X).squeeze()\n",
        "            loss = criterion(outputs, batch_y.float())\n",
        "            loss.backward()\n",
        "            optimizer.step()\n",
        "\n",
        "            running_loss += loss.item()\n",
        "\n",
        "            # Calculate training accuracy\n",
        "            predictions = (outputs >= 0.5).float()\n",
        "            correct += (predictions == batch_y).sum().item()\n",
        "            total += batch_y.size(0)\n",
        "\n",
        "        train_losses.append(running_loss / len(train_loader))\n",
        "        train_accuracies.append(correct / total)  # Store training accuracy\n",
        "\n",
        "        # Validation\n",
        "        model.eval()\n",
        "        with torch.no_grad():\n",
        "            val_outputs = model(X_val).squeeze()\n",
        "            val_loss = criterion(val_outputs, y_val.float())\n",
        "            val_predictions = (val_outputs >= 0.5).float()\n",
        "            val_accuracy = (val_predictions == y_val).float().mean()\n",
        "\n",
        "        val_losses.append(val_loss.item())\n",
        "        val_accuracies.append(val_accuracy.item())\n",
        "\n",
        "        print(f\"Epoch [{epoch+1}/{num_epochs}], Train Loss: {train_losses[-1]:.4f}, Train Accuracy: {train_accuracies[-1]:.4f}, Val Loss: {val_loss.item():.4f}, Val Accuracy: {val_accuracy.item():.4f}\")\n",
        "\n",
        "        if scheduler:\n",
        "            scheduler.step(val_loss)\n",
        "\n",
        "        if val_loss < best_val_loss:\n",
        "            best_val_loss = val_loss\n",
        "            epochs_no_improve = 0\n",
        "        else:\n",
        "            epochs_no_improve += 1\n",
        "            if epochs_no_improve == patience:\n",
        "                print(\"Early stopping!\")\n",
        "                break\n",
        "\n",
        "    return model, train_losses, val_losses, val_accuracies, train_accuracies\n"
      ],
      "metadata": {
        "id": "zbfmPP7DoQg9",
        "collapsed": true
      },
      "execution_count": null,
      "outputs": []
    },
    {
      "cell_type": "code",
      "source": [
        "model, train_losses, val_losses, val_accuracies, train_accuracies = train_model(model, criterion, optimizer, X_train, y_train, X_val, y_val)"
      ],
      "metadata": {
        "colab": {
          "base_uri": "https://localhost:8080/"
        },
        "id": "rX1d2EYuoxy1",
        "outputId": "39e81973-8fd0-45cd-917d-f42739d95808"
      },
      "execution_count": null,
      "outputs": [
        {
          "output_type": "stream",
          "name": "stdout",
          "text": [
            "Epoch [1/100], Train Loss: 0.6733, Train Accuracy: 0.7315, Val Loss: 0.6692, Val Accuracy: 0.7762\n",
            "Epoch [2/100], Train Loss: 0.5637, Train Accuracy: 0.7842, Val Loss: 0.5338, Val Accuracy: 0.8155\n",
            "Epoch [3/100], Train Loss: 0.4995, Train Accuracy: 0.8127, Val Loss: 0.4588, Val Accuracy: 0.8270\n",
            "Epoch [4/100], Train Loss: 0.4582, Train Accuracy: 0.8205, Val Loss: 0.4296, Val Accuracy: 0.8321\n",
            "Epoch [5/100], Train Loss: 0.4287, Train Accuracy: 0.8230, Val Loss: 0.4056, Val Accuracy: 0.8276\n",
            "Epoch [6/100], Train Loss: 0.4088, Train Accuracy: 0.8206, Val Loss: 0.3973, Val Accuracy: 0.8346\n",
            "Epoch [7/100], Train Loss: 0.3953, Train Accuracy: 0.8247, Val Loss: 0.3837, Val Accuracy: 0.8356\n",
            "Epoch [8/100], Train Loss: 0.3832, Train Accuracy: 0.8277, Val Loss: 0.3842, Val Accuracy: 0.8381\n",
            "Epoch [9/100], Train Loss: 0.3763, Train Accuracy: 0.8273, Val Loss: 0.3745, Val Accuracy: 0.8367\n",
            "Epoch [10/100], Train Loss: 0.3734, Train Accuracy: 0.8285, Val Loss: 0.3745, Val Accuracy: 0.8341\n",
            "Epoch [11/100], Train Loss: 0.3679, Train Accuracy: 0.8304, Val Loss: 0.3567, Val Accuracy: 0.8301\n",
            "Epoch [12/100], Train Loss: 0.3626, Train Accuracy: 0.8316, Val Loss: 0.3558, Val Accuracy: 0.8347\n",
            "Epoch [13/100], Train Loss: 0.3617, Train Accuracy: 0.8271, Val Loss: 0.3503, Val Accuracy: 0.8336\n",
            "Epoch [14/100], Train Loss: 0.3576, Train Accuracy: 0.8299, Val Loss: 0.3563, Val Accuracy: 0.8391\n",
            "Epoch [15/100], Train Loss: 0.3552, Train Accuracy: 0.8327, Val Loss: 0.3468, Val Accuracy: 0.8306\n",
            "Epoch [16/100], Train Loss: 0.3515, Train Accuracy: 0.8331, Val Loss: 0.3447, Val Accuracy: 0.8362\n",
            "Epoch [17/100], Train Loss: 0.3502, Train Accuracy: 0.8339, Val Loss: 0.3433, Val Accuracy: 0.8263\n",
            "Epoch [18/100], Train Loss: 0.3489, Train Accuracy: 0.8321, Val Loss: 0.3408, Val Accuracy: 0.8326\n",
            "Epoch [19/100], Train Loss: 0.3451, Train Accuracy: 0.8356, Val Loss: 0.3426, Val Accuracy: 0.8235\n",
            "Epoch [20/100], Train Loss: 0.3484, Train Accuracy: 0.8329, Val Loss: 0.3389, Val Accuracy: 0.8339\n",
            "Epoch [21/100], Train Loss: 0.3417, Train Accuracy: 0.8307, Val Loss: 0.3445, Val Accuracy: 0.8362\n",
            "Epoch [22/100], Train Loss: 0.3437, Train Accuracy: 0.8316, Val Loss: 0.3404, Val Accuracy: 0.8346\n",
            "Epoch [23/100], Train Loss: 0.3403, Train Accuracy: 0.8340, Val Loss: 0.3388, Val Accuracy: 0.8288\n",
            "Epoch [24/100], Train Loss: 0.3392, Train Accuracy: 0.8356, Val Loss: 0.3404, Val Accuracy: 0.8306\n",
            "Epoch [25/100], Train Loss: 0.3395, Train Accuracy: 0.8350, Val Loss: 0.3401, Val Accuracy: 0.8303\n",
            "Epoch [26/100], Train Loss: 0.3411, Train Accuracy: 0.8366, Val Loss: 0.3365, Val Accuracy: 0.8323\n",
            "Epoch [27/100], Train Loss: 0.3369, Train Accuracy: 0.8353, Val Loss: 0.3407, Val Accuracy: 0.8376\n",
            "Epoch [28/100], Train Loss: 0.3376, Train Accuracy: 0.8390, Val Loss: 0.3453, Val Accuracy: 0.8298\n",
            "Epoch [29/100], Train Loss: 0.3362, Train Accuracy: 0.8359, Val Loss: 0.3375, Val Accuracy: 0.8415\n",
            "Epoch [30/100], Train Loss: 0.3356, Train Accuracy: 0.8360, Val Loss: 0.3389, Val Accuracy: 0.8351\n",
            "Epoch [31/100], Train Loss: 0.3340, Train Accuracy: 0.8361, Val Loss: 0.3467, Val Accuracy: 0.8208\n",
            "Epoch [32/100], Train Loss: 0.3319, Train Accuracy: 0.8368, Val Loss: 0.3414, Val Accuracy: 0.8402\n",
            "Epoch [33/100], Train Loss: 0.3360, Train Accuracy: 0.8392, Val Loss: 0.3405, Val Accuracy: 0.8342\n",
            "Early stopping!\n"
          ]
        }
      ]
    },
    {
      "cell_type": "code",
      "source": [
        "# Plotting the training and validation loss\n",
        "plt.figure(figsize=(12, 5))\n",
        "plt.subplot(1, 2, 1)\n",
        "plt.plot(train_losses, label='Train Loss')\n",
        "plt.plot(val_losses, label='Validation Loss')\n",
        "plt.xlabel('Epoch')\n",
        "plt.ylabel('Loss')\n",
        "plt.legend()\n",
        "plt.title('Loss vs. Epochs')"
      ],
      "metadata": {
        "colab": {
          "base_uri": "https://localhost:8080/",
          "height": 504
        },
        "id": "hilcCySpRsTy",
        "outputId": "8ae98193-51a6-4e72-a2f7-6e39cff30630"
      },
      "execution_count": 78,
      "outputs": [
        {
          "output_type": "execute_result",
          "data": {
            "text/plain": [
              "Text(0.5, 1.0, 'Loss vs. Epochs')"
            ]
          },
          "metadata": {},
          "execution_count": 78
        },
        {
          "output_type": "display_data",
          "data": {
            "text/plain": [
              "<Figure size 1200x500 with 1 Axes>"
            ],
            "image/png": "[encoded data removed]"
          },
          "metadata": {}
        }
      ]
    },
    {
      "cell_type": "code",
      "source": [
        "plt.figure(figsize=(8, 6))\n",
        "plt.plot(train_accuracies, label='Training Accuracy', color='blue')\n",
        "plt.plot(val_accuracies, label='Validation Accuracy', color='orange')\n",
        "\n",
        "plt.xlabel('Epoch')\n",
        "plt.ylabel('Accuracy')\n",
        "plt.title('Training and Validation Accuracy')\n",
        "plt.legend()\n",
        "\n",
        "plt.grid(True)\n",
        "plt.show()"
      ],
      "metadata": {
        "colab": {
          "base_uri": "https://localhost:8080/",
          "height": 564
        },
        "id": "pvDRwR-KK-ud",
        "outputId": "55c6c14f-6392-407b-e30d-29071792a0c4"
      },
      "execution_count": 80,
      "outputs": [
        {
          "output_type": "display_data",
          "data": {
            "text/plain": [
              "<Figure size 800x600 with 1 Axes>"
            ],
            "image/png": "[encoded data removed]"
          },
          "metadata": {}
        }
      ]
    },
    {
      "cell_type": "code",
      "source": [
        "model.eval()\n",
        "with torch.no_grad():\n",
        "    test_outputs = model(X_test).squeeze()\n",
        "    test_predictions = (test_outputs >= 0.5).float()\n",
        "    test_accuracy = (test_predictions == y_test).float().mean()\n",
        "    print(f\"Test Accuracy: {test_accuracy.item() * 100:.2f}%\")"
      ],
      "metadata": {
        "colab": {
          "base_uri": "https://localhost:8080/"
        },
        "id": "0c5sb1LuN-ro",
        "outputId": "71d50e14-e39c-431e-dbb4-2c34c81805b9"
      },
      "execution_count": null,
      "outputs": [
        {
          "output_type": "stream",
          "name": "stdout",
          "text": [
            "Test Accuracy: 83.65%\n"
          ]
        }
      ]
    },
    {
      "cell_type": "markdown",
      "source": [
        "## Network Summary\n",
        "\n",
        "__Fully Connected Layers__\n",
        "\n",
        "The model utilizes 6 FC layers where the number of neurons decreases:<br>\n",
        "input_size → 512 → 256 → 128 → 64 → 32 → 1\n",
        "\n",
        "__Batch Normalization Layers__\n",
        "\n",
        "Batch normalization layers are applied after some FC layers to normalize activatins in order to achieve convergence faster.\n",
        "\n",
        "__Leaky Relu Activations__\n",
        "\n",
        "We decided to introduce non-linmearity into the model by using the Leaky-ReLU activation function.\n",
        "\n",
        "__Dropout Layers__\n",
        "\n",
        "The model also utilizes Dropout layers where p = 0.5 in order to generalize better.\n",
        "\n",
        "__Early Stopping__\n",
        "\n",
        "We implemented an early stoping mechanism that stops the training process after 7 consecutive epohcs that yield a worse result than the best result so far in the training."
      ],
      "metadata": {
        "id": "rvSzomgG3R8H"
      }
    },
    {
      "cell_type": "markdown",
      "metadata": {
        "id": "8Oy5l8qUaXte"
      },
      "source": [
        "## Exercise 2 - Network 1"
      ]
    },
    {
      "cell_type": "markdown",
      "source": [
        "Importing necessary libraries"
      ],
      "metadata": {
        "id": "3Nc-SBAI3TF5"
      }
    },
    {
      "cell_type": "code",
      "execution_count": null,
      "metadata": {
        "id": "xG2sXYp0yMLK"
      },
      "outputs": [],
      "source": [
        "import torch\n",
        "from torchvision import datasets, transforms\n",
        "import pandas as pd\n",
        "import numpy as np\n",
        "import torch\n",
        "import torch.nn as nn\n",
        "import torch.optim as optim\n",
        "from torch.utils.data import DataLoader, Subset, random_split\n",
        "import matplotlib.pyplot as plt\n",
        "from torchsummary import summary"
      ]
    },
    {
      "cell_type": "markdown",
      "source": [
        "Downloaded the required data, and transformed the images for a data type which is suitable for inserting in PyTorch tensors.\n",
        "Filtered both train and test dataset out of the images whose labels are not the first 4 categories. [0-4]\n",
        "Split the training data (24,000) to 22,000 samples for training and 2000 for valiation.\n"
      ],
      "metadata": {
        "id": "s3819IXtvvid"
      }
    },
    {
      "cell_type": "code",
      "execution_count": null,
      "metadata": {
        "colab": {
          "base_uri": "https://localhost:8080/"
        },
        "id": "9Zy0jeZ1aa2m",
        "outputId": "e28cbfaa-ecc8-4ef1-9e0c-be19c4cf232a"
      },
      "outputs": [
        {
          "output_type": "stream",
          "name": "stdout",
          "text": [
            "Downloading http://fashion-mnist.s3-website.eu-central-1.amazonaws.com/train-images-idx3-ubyte.gz\n",
            "Downloading http://fashion-mnist.s3-website.eu-central-1.amazonaws.com/train-images-idx3-ubyte.gz to ./data/FashionMNIST/raw/train-images-idx3-ubyte.gz\n"
          ]
        },
        {
          "output_type": "stream",
          "name": "stderr",
          "text": [
            "100%|██████████| 26.4M/26.4M [00:01<00:00, 17.9MB/s]\n"
          ]
        },
        {
          "output_type": "stream",
          "name": "stdout",
          "text": [
            "Extracting ./data/FashionMNIST/raw/train-images-idx3-ubyte.gz to ./data/FashionMNIST/raw\n",
            "\n",
            "Downloading http://fashion-mnist.s3-website.eu-central-1.amazonaws.com/train-labels-idx1-ubyte.gz\n",
            "Downloading http://fashion-mnist.s3-website.eu-central-1.amazonaws.com/train-labels-idx1-ubyte.gz to ./data/FashionMNIST/raw/train-labels-idx1-ubyte.gz\n"
          ]
        },
        {
          "output_type": "stream",
          "name": "stderr",
          "text": [
            "100%|██████████| 29.5k/29.5k [00:00<00:00, 308kB/s]\n"
          ]
        },
        {
          "output_type": "stream",
          "name": "stdout",
          "text": [
            "Extracting ./data/FashionMNIST/raw/train-labels-idx1-ubyte.gz to ./data/FashionMNIST/raw\n",
            "\n",
            "Downloading http://fashion-mnist.s3-website.eu-central-1.amazonaws.com/t10k-images-idx3-ubyte.gz\n",
            "Downloading http://fashion-mnist.s3-website.eu-central-1.amazonaws.com/t10k-images-idx3-ubyte.gz to ./data/FashionMNIST/raw/t10k-images-idx3-ubyte.gz\n"
          ]
        },
        {
          "output_type": "stream",
          "name": "stderr",
          "text": [
            "100%|██████████| 4.42M/4.42M [00:00<00:00, 5.51MB/s]\n"
          ]
        },
        {
          "output_type": "stream",
          "name": "stdout",
          "text": [
            "Extracting ./data/FashionMNIST/raw/t10k-images-idx3-ubyte.gz to ./data/FashionMNIST/raw\n",
            "\n",
            "Downloading http://fashion-mnist.s3-website.eu-central-1.amazonaws.com/t10k-labels-idx1-ubyte.gz\n",
            "Downloading http://fashion-mnist.s3-website.eu-central-1.amazonaws.com/t10k-labels-idx1-ubyte.gz to ./data/FashionMNIST/raw/t10k-labels-idx1-ubyte.gz\n"
          ]
        },
        {
          "output_type": "stream",
          "name": "stderr",
          "text": [
            "100%|██████████| 5.15k/5.15k [00:00<00:00, 15.9MB/s]\n"
          ]
        },
        {
          "output_type": "stream",
          "name": "stdout",
          "text": [
            "Extracting ./data/FashionMNIST/raw/t10k-labels-idx1-ubyte.gz to ./data/FashionMNIST/raw\n",
            "\n",
            "Filtered Train Dataset Size: 22000\n",
            "Filtered Test Dataset Size: 4000\n"
          ]
        }
      ],
      "source": [
        "transform = transforms.Compose([transforms.ToTensor()])\n",
        "\n",
        "target_classes = [0, 1, 2, 3]\n",
        "\n",
        "train_dataset = datasets.FashionMNIST(root='./data', train=True, download=True, transform=transform)\n",
        "filtered_train_dataset = [(image, label) for image, label in train_dataset if label in target_classes]\n",
        "\n",
        "test_dataset = datasets.FashionMNIST(root='./data', train=False, download=True, transform=transform)\n",
        "filtered_test_dataset = [(image, label) for image, label in test_dataset if label in target_classes]\n",
        "\n",
        "filtered_train_dataset, filtered_validation_dataset = random_split(filtered_train_dataset, [22000, 2000])\n",
        "\n",
        "# Example: Length of filtered datasets\n",
        "print(f'Filtered Train Dataset Size: {len(filtered_train_dataset)}')\n",
        "print(f'Filtered Test Dataset Size: {len(filtered_test_dataset)}')"
      ]
    },
    {
      "cell_type": "markdown",
      "source": [
        "Split the training data to batches of 1500's"
      ],
      "metadata": {
        "id": "cgzJeFxRxGlZ"
      }
    },
    {
      "cell_type": "code",
      "execution_count": null,
      "metadata": {
        "colab": {
          "base_uri": "https://localhost:8080/"
        },
        "id": "6SAUIcIdMato",
        "outputId": "a7a07fab-28b6-45d3-e7b3-0d4cf65842d1"
      },
      "outputs": [
        {
          "output_type": "stream",
          "name": "stdout",
          "text": [
            "Filtered Size =  22000\n"
          ]
        }
      ],
      "source": [
        "train_loader = DataLoader(filtered_train_dataset,batch_size = 1500, shuffle=True)\n",
        "print(\"Filtered Size = \" , len(filtered_train_dataset))"
      ]
    },
    {
      "cell_type": "markdown",
      "source": [
        "Built a 2-Layer NN as required, with an input size of 784, since our pictures are of dims 28x28 with size 4 in the output layer, since we are classifying only 4 classes."
      ],
      "metadata": {
        "id": "604zviJOxOiQ"
      }
    },
    {
      "cell_type": "code",
      "execution_count": null,
      "metadata": {
        "id": "svYm0b0I2gwA",
        "colab": {
          "base_uri": "https://localhost:8080/"
        },
        "outputId": "1c2b8042-9ce7-4033-c004-7bc86a0945c3"
      },
      "outputs": [
        {
          "output_type": "stream",
          "name": "stdout",
          "text": [
            "FashionMNIST(\n",
            "  (fc1): Linear(in_features=784, out_features=4, bias=True)\n",
            ")\n"
          ]
        }
      ],
      "source": [
        "class FashionMNIST(nn.Module):\n",
        "    def __init__(self, input_size):\n",
        "        super(FashionMNIST, self).__init__()\n",
        "        self.fc1 = nn.Linear(input_size, 4)\n",
        "\n",
        "    def forward(self, x):\n",
        "        x = self.fc1(x)\n",
        "        return x\n",
        "\n",
        "model = FashionMNIST(input_size=784)\n",
        "print(model)"
      ]
    },
    {
      "cell_type": "markdown",
      "source": [
        "**Parameters**\n",
        "This network has 784 x 4 + 4 = 3140 parameters"
      ],
      "metadata": {
        "id": "diwBaTFLb6SX"
      }
    },
    {
      "cell_type": "markdown",
      "source": [
        "* Used CrossEntropyLoss as the loss function because it is the most appropriate loss function for multi-class classification. While others might work but this worked best with our problem.\n",
        "* As mentioned earlier, since our images are of dims 28x28 the input size of our network is 784\n",
        "* Used Adam optimizer with a learning rate of 0.001 as it involves the optimization of several deep learning optimizers like SGD, RMSProp.\n",
        "Tested over several learning rates and this achieved the best."
      ],
      "metadata": {
        "id": "Den6dsiA4frb"
      }
    },
    {
      "cell_type": "code",
      "execution_count": null,
      "metadata": {
        "colab": {
          "base_uri": "https://localhost:8080/"
        },
        "id": "C9IvkR9C7AoD",
        "outputId": "9df5029f-c59d-4f7b-8fbe-5d23cfcadd27"
      },
      "outputs": [
        {
          "output_type": "stream",
          "name": "stdout",
          "text": [
            "Epoch [1/13], Train Loss: 1.0645, Train Accuracy: 0.6717, Val Loss: 0.6702, Val Accuracy: 0.8800\n",
            "Epoch [2/13], Train Loss: 0.6201, Train Accuracy: 0.8948, Val Loss: 0.3899, Val Accuracy: 0.8895\n",
            "Epoch [3/13], Train Loss: 0.4631, Train Accuracy: 0.9011, Val Loss: 0.2856, Val Accuracy: 0.8975\n",
            "Epoch [4/13], Train Loss: 0.3972, Train Accuracy: 0.9050, Val Loss: 0.2348, Val Accuracy: 0.8965\n",
            "Epoch [5/13], Train Loss: 0.3594, Train Accuracy: 0.9079, Val Loss: 0.2038, Val Accuracy: 0.9020\n",
            "Epoch [6/13], Train Loss: 0.3346, Train Accuracy: 0.9093, Val Loss: 0.1821, Val Accuracy: 0.9045\n",
            "Epoch [7/13], Train Loss: 0.3173, Train Accuracy: 0.9133, Val Loss: 0.1715, Val Accuracy: 0.9045\n",
            "Epoch [8/13], Train Loss: 0.3039, Train Accuracy: 0.9153, Val Loss: 0.1568, Val Accuracy: 0.9045\n",
            "Epoch [9/13], Train Loss: 0.2924, Train Accuracy: 0.9163, Val Loss: 0.1481, Val Accuracy: 0.9060\n",
            "Epoch [10/13], Train Loss: 0.2842, Train Accuracy: 0.9181, Val Loss: 0.1472, Val Accuracy: 0.9100\n",
            "Epoch [11/13], Train Loss: 0.2765, Train Accuracy: 0.9199, Val Loss: 0.1377, Val Accuracy: 0.9125\n",
            "Epoch [12/13], Train Loss: 0.2694, Train Accuracy: 0.9213, Val Loss: 0.1348, Val Accuracy: 0.9120\n",
            "Epoch [13/13], Train Loss: 0.2631, Train Accuracy: 0.9218, Val Loss: 0.1308, Val Accuracy: 0.9125\n",
            "Accuracy on test set: 91.67%\n"
          ]
        }
      ],
      "source": [
        "loss_values = [] # Used to store loss values to plot.\n",
        "train_accuracies = [] # Used to store training accuracy to plot.\n",
        "val_accuracies = [] # Used to store validation accuracy to plot.\n",
        "val_losses = [] # For personal plotting and testing.\n",
        "\n",
        "criterion = nn.CrossEntropyLoss()\n",
        "optimizer = torch.optim.Adam(model.parameters(), lr=0.001)\n",
        "\n",
        "val_loader = DataLoader(filtered_validation_dataset, batch_size=64, shuffle=False) # Validation data loader.\n",
        "\n",
        "num_epochs = len(train_loader) - 2  # Training over 13 Epochs\n",
        "for epoch in range(num_epochs):\n",
        "    model.train() # Set the model ready to training mode\n",
        "    correct = 0\n",
        "    total = 0\n",
        "    running_loss = 0.0 # For calculating avg loss.\n",
        "\n",
        "    # Training Loop\n",
        "    for images, labels in train_loader:\n",
        "\n",
        "        images = images.view(images.size(0), -1) # Flatten the images\n",
        "\n",
        "        outputs = model(images)\n",
        "        loss = criterion(outputs, labels)\n",
        "\n",
        "        optimizer.zero_grad()  # Backpropagation and optimization\n",
        "        loss.backward()\n",
        "        optimizer.step()\n",
        "\n",
        "        # Calculate training predictions\n",
        "        _, predicted = torch.max(outputs.data, 1)\n",
        "        total += labels.size(0)  # Total samples in the batch\n",
        "        correct += (predicted == labels).sum().item()  # Count correct predictions\n",
        "        running_loss += loss.item()  # Add up the loss.\n",
        "\n",
        "    # Calculate training accuracy and loss for the epoch\n",
        "    train_accuracy = correct / total\n",
        "    train_accuracies.append(correct / total)  # Append training accuracy\n",
        "    loss_values.append(running_loss / len(train_loader))  # Average loss per Epoch\n",
        "\n",
        "    # Validation Loop (during training)\n",
        "    model.eval()  # Set the model to evaluation mode\n",
        "    correct_val = 0\n",
        "    total_val = 0\n",
        "\n",
        "    with torch.no_grad():\n",
        "        for val_images, val_labels in val_loader:\n",
        "            val_images = val_images.view(val_images.size(0), -1)  # Flatten the images\n",
        "\n",
        "            val_outputs = model(val_images) # Forward Pass\n",
        "            val_loss = criterion(val_outputs, val_labels)\n",
        "\n",
        "            _, val_predicted = torch.max(val_outputs.data, 1)  # Calculate validation predictions\n",
        "            total_val += val_labels.size(0)\n",
        "            correct_val += (val_predicted == val_labels).sum().item()\n",
        "\n",
        "    # Calculate validation accuracy and loss for the epoch\n",
        "    val_accuracy = correct_val / total_val\n",
        "    val_accuracies.append(val_accuracy)\n",
        "    val_losses.append(val_loss.item())  # Average validation loss per batch\n",
        "\n",
        "    print(f'Epoch [{epoch+1}/{num_epochs}], '\n",
        "          f'Train Loss: {loss_values[-1]:.4f}, Train Accuracy: {train_accuracy:.4f}, '\n",
        "          f'Val Loss: {val_losses[-1]:.4f}, Val Accuracy: {val_accuracy:.4f}')\n",
        "\n",
        "\n",
        "# Test Evaluation\n",
        "test_loader = DataLoader(filtered_test_dataset, batch_size=64, shuffle=False)\n",
        "\n",
        "model.eval()\n",
        "correct = 0\n",
        "total = 0\n",
        "\n",
        "with torch.no_grad():\n",
        "    for images, labels in test_loader:\n",
        "        images = images.view(images.size(0), -1)  # Flatten images\n",
        "\n",
        "        outputs = model(images)  # Forward pass\n",
        "        _, predicted = torch.max(outputs.data, 1)  # Get the predicted class\n",
        "\n",
        "        total += labels.size(0) # Calculate accuracy\n",
        "        correct += (predicted == labels).sum().item()\n",
        "\n",
        "test_accuracy = correct / total\n",
        "print(f'Accuracy on test set: {test_accuracy * 100:.2f}%')\n"
      ]
    },
    {
      "cell_type": "code",
      "execution_count": null,
      "metadata": {
        "colab": {
          "base_uri": "https://localhost:8080/",
          "height": 564
        },
        "id": "8VZKQcktjwme",
        "outputId": "a42245ce-54af-4f13-ee7b-4661d5784555"
      },
      "outputs": [
        {
          "output_type": "display_data",
          "data": {
            "text/plain": [
              "<Figure size 1000x600 with 1 Axes>"
            ],
            "image/png": "[encoded data removed]"
          },
          "metadata": {}
        }
      ],
      "source": [
        "epochs = range(1, len(loss_values) + 1)\n",
        "\n",
        "# Plot the loss values\n",
        "plt.figure(figsize=(10, 6))\n",
        "plt.plot(epochs, loss_values, marker='o', label=\"Loss\")\n",
        "plt.title(\"Loss vs Epochs\")\n",
        "plt.xlabel(\"Epochs\")\n",
        "plt.ylabel(\"Loss\")\n",
        "plt.legend()\n",
        "plt.grid(True)\n",
        "plt.show()"
      ]
    },
    {
      "cell_type": "code",
      "execution_count": 81,
      "metadata": {
        "colab": {
          "base_uri": "https://localhost:8080/",
          "height": 564
        },
        "id": "3bdXbW0vlGz_",
        "outputId": "c64317f9-3965-47b3-abf9-6f17f85133a0"
      },
      "outputs": [
        {
          "output_type": "display_data",
          "data": {
            "text/plain": [
              "<Figure size 1000x600 with 1 Axes>"
            ],
            "image/png": "[encoded data removed]"
          },
          "metadata": {}
        }
      ],
      "source": [
        "plt.figure(figsize=(10, 6))\n",
        "plt.plot(epochs, train_accuracies, marker='o', color='blue', label=\"Training Accuracy\")\n",
        "plt.plot(epochs, val_accuracies, marker='o', color='red', label=\"Validation Accuracy\")\n",
        "\n",
        "plt.title(\"Training and Validation Accuracy vs Epochs\")\n",
        "plt.xlabel(\"Epochs\")\n",
        "plt.ylabel(\"Accuracy\")\n",
        "plt.ylim(0, 1)\n",
        "plt.legend()\n",
        "plt.grid(True)\n",
        "\n",
        "plt.show()"
      ]
    },
    {
      "cell_type": "code",
      "source": [
        "# Plot validation loss for personal use\n",
        "plt.figure(figsize=(10, 6))\n",
        "plt.plot(epochs, val_losses, marker='o', color='red', label=\"Validation Loss\")\n",
        "plt.title(\"Validation Loss vs Epochs\")\n",
        "plt.xlabel(\"Epochs\")\n",
        "plt.ylabel(\"Validation Loss\")\n",
        "plt.legend()\n",
        "plt.grid(True)\n",
        "plt.show()"
      ],
      "metadata": {
        "colab": {
          "base_uri": "https://localhost:8080/",
          "height": 564
        },
        "id": "xh7p9gIHBpK4",
        "outputId": "eee8be04-0b0e-44cb-c02b-6b5c20e20a12"
      },
      "execution_count": null,
      "outputs": [
        {
          "output_type": "display_data",
          "data": {
            "text/plain": [
              "<Figure size 1000x600 with 1 Axes>"
            ],
            "image/png": "[encoded data removed]"
          },
          "metadata": {}
        }
      ]
    },
    {
      "cell_type": "markdown",
      "source": [
        "## Exercise 2 - Network 2"
      ],
      "metadata": {
        "id": "0n9p2ZdRA-8E"
      }
    },
    {
      "cell_type": "markdown",
      "source": [
        "Importing necessary libraries"
      ],
      "metadata": {
        "id": "T8qBkZRgEu4_"
      }
    },
    {
      "cell_type": "code",
      "source": [
        "import torch\n",
        "from torchvision import datasets, transforms\n",
        "import pandas as pd\n",
        "import numpy as np\n",
        "import torch\n",
        "import torch.nn as nn\n",
        "import torch.optim as optim\n",
        "from torch.utils.data import DataLoader, Subset, random_split\n",
        "import matplotlib.pyplot as plt"
      ],
      "metadata": {
        "id": "iYmX0VP8A-8F"
      },
      "execution_count": 84,
      "outputs": []
    },
    {
      "cell_type": "markdown",
      "source": [
        "Downloaded the required data, and transformed the images for a data type which is suitable for inserting in PyTorch tensors.\n",
        "Split the training data (60,000) to 56,000 samples for training and 4000 for valiation.\n"
      ],
      "metadata": {
        "id": "kMPCC-GSE0Es"
      }
    },
    {
      "cell_type": "code",
      "source": [
        "transform = transforms.Compose([transforms.ToTensor()])\n",
        "\n",
        "train_dataset = datasets.FashionMNIST(root='./data', train=True, download=True, transform=transform)\n",
        "\n",
        "test_dataset = datasets.FashionMNIST(root='./data', train=False, download=True, transform=transform)\n",
        "\n",
        "print(f'Train Dataset Size: {len(train_dataset)}')\n",
        "print(f'Test Dataset Size: {len(test_dataset)}')\n",
        "\n",
        "train_dataset, val_dataset = random_split(train_dataset, [56000, 4000])\n",
        "\n",
        "test_loader = DataLoader(test_dataset, shuffle=False)\n",
        "train_loader = DataLoader(train_dataset,batch_size = 2000, shuffle=True) # Splitting the training data for batches of 2000 samples."
      ],
      "metadata": {
        "colab": {
          "base_uri": "https://localhost:8080/"
        },
        "collapsed": true,
        "outputId": "4ba0b986-072c-442f-a671-b359c423503c",
        "id": "Tsk30inXA-8G"
      },
      "execution_count": 85,
      "outputs": [
        {
          "output_type": "stream",
          "name": "stdout",
          "text": [
            "Downloading http://fashion-mnist.s3-website.eu-central-1.amazonaws.com/train-images-idx3-ubyte.gz\n",
            "Downloading http://fashion-mnist.s3-website.eu-central-1.amazonaws.com/train-images-idx3-ubyte.gz to ./data/FashionMNIST/raw/train-images-idx3-ubyte.gz\n"
          ]
        },
        {
          "output_type": "stream",
          "name": "stderr",
          "text": [
            "100%|██████████| 26.4M/26.4M [00:01<00:00, 17.5MB/s]\n"
          ]
        },
        {
          "output_type": "stream",
          "name": "stdout",
          "text": [
            "Extracting ./data/FashionMNIST/raw/train-images-idx3-ubyte.gz to ./data/FashionMNIST/raw\n",
            "\n",
            "Downloading http://fashion-mnist.s3-website.eu-central-1.amazonaws.com/train-labels-idx1-ubyte.gz\n",
            "Downloading http://fashion-mnist.s3-website.eu-central-1.amazonaws.com/train-labels-idx1-ubyte.gz to ./data/FashionMNIST/raw/train-labels-idx1-ubyte.gz\n"
          ]
        },
        {
          "output_type": "stream",
          "name": "stderr",
          "text": [
            "100%|██████████| 29.5k/29.5k [00:00<00:00, 326kB/s]\n"
          ]
        },
        {
          "output_type": "stream",
          "name": "stdout",
          "text": [
            "Extracting ./data/FashionMNIST/raw/train-labels-idx1-ubyte.gz to ./data/FashionMNIST/raw\n",
            "\n",
            "Downloading http://fashion-mnist.s3-website.eu-central-1.amazonaws.com/t10k-images-idx3-ubyte.gz\n",
            "Downloading http://fashion-mnist.s3-website.eu-central-1.amazonaws.com/t10k-images-idx3-ubyte.gz to ./data/FashionMNIST/raw/t10k-images-idx3-ubyte.gz\n"
          ]
        },
        {
          "output_type": "stream",
          "name": "stderr",
          "text": [
            "100%|██████████| 4.42M/4.42M [00:00<00:00, 5.73MB/s]\n"
          ]
        },
        {
          "output_type": "stream",
          "name": "stdout",
          "text": [
            "Extracting ./data/FashionMNIST/raw/t10k-images-idx3-ubyte.gz to ./data/FashionMNIST/raw\n",
            "\n",
            "Downloading http://fashion-mnist.s3-website.eu-central-1.amazonaws.com/t10k-labels-idx1-ubyte.gz\n",
            "Downloading http://fashion-mnist.s3-website.eu-central-1.amazonaws.com/t10k-labels-idx1-ubyte.gz to ./data/FashionMNIST/raw/t10k-labels-idx1-ubyte.gz\n"
          ]
        },
        {
          "output_type": "stream",
          "name": "stderr",
          "text": [
            "100%|██████████| 5.15k/5.15k [00:00<00:00, 15.3MB/s]\n"
          ]
        },
        {
          "output_type": "stream",
          "name": "stdout",
          "text": [
            "Extracting ./data/FashionMNIST/raw/t10k-labels-idx1-ubyte.gz to ./data/FashionMNIST/raw\n",
            "\n",
            "Train Dataset Size: 60000\n",
            "Test Dataset Size: 10000\n"
          ]
        }
      ]
    },
    {
      "cell_type": "markdown",
      "source": [
        "Built a 4-Layer NN as required, with an input size of 784, since our pictures are of dims 28x28 with size 10 in the output layer.\n",
        "In every layer, used ReLU activation function, as it is simple, fast and avoid vanishing gradient and widely used in classification tasks."
      ],
      "metadata": {
        "id": "1NX_KNjgFCte"
      }
    },
    {
      "cell_type": "code",
      "source": [
        "class FashionMNST(nn.Module):\n",
        "    def __init__(self, input_size):\n",
        "        super(FashionMNST, self).__init__()\n",
        "        self.fc1 = nn.Linear(input_size, 64)\n",
        "        self.fc2 = nn.Linear(64,32)\n",
        "        self.fc3 = nn.Linear(32, 10)\n",
        "        #self.fc4 = nn.Linear(16,10)\n",
        "\n",
        "    def forward(self, x):\n",
        "        x = torch.relu(self.fc1(x))\n",
        "        x = torch.relu(self.fc2(x))\n",
        "        x = self.fc3(x)\n",
        "        #x = self.fc4(x)\n",
        "        return x\n",
        "\n",
        "model = FashionMNST(input_size=784)\n",
        "print(model)"
      ],
      "metadata": {
        "id": "CtlF_sWPA-8H",
        "colab": {
          "base_uri": "https://localhost:8080/"
        },
        "outputId": "5d17da1d-d986-4628-cdde-9248fcb1e00b"
      },
      "execution_count": 86,
      "outputs": [
        {
          "output_type": "stream",
          "name": "stdout",
          "text": [
            "FashionMNST(\n",
            "  (fc1): Linear(in_features=784, out_features=64, bias=True)\n",
            "  (fc2): Linear(in_features=64, out_features=32, bias=True)\n",
            "  (fc3): Linear(in_features=32, out_features=10, bias=True)\n",
            ")\n"
          ]
        }
      ]
    },
    {
      "cell_type": "markdown",
      "source": [
        "Layer 1: nn.Linear(input_size, 70)\n",
        "\n",
        "Weights:\n",
        "784 × 64 = 50,176\n",
        "\n",
        "Biases: 64\n",
        "\n",
        "Total Parameters for Layer 1:\n",
        "\n",
        "50,175 + 64 = 50,240\n",
        "\n",
        "---\n",
        "\n",
        "Layer 2: nn.Linear(64, 32)\n",
        "\n",
        "Weights:\n",
        "64 × 32 = 2,048\n",
        "\n",
        "Biases: 32\n",
        "\n",
        "Total parameters for Layer 2: 2,048 + 32 = 2,080\n",
        "\n",
        "---\n",
        "Layer 3: nn.Linear(32, 10)\n",
        "\n",
        "Weights:\n",
        "32 × 10 = 320\n",
        "\n",
        "Biases: 10\n",
        "\n",
        "Total parameters for Layer 3: 320 + 10 = 330\n",
        "\n",
        "\n",
        "**Total Parameters=50,240 + 2,080 + 330 = 52,650**\n"
      ],
      "metadata": {
        "id": "g_FNH2RNdtNv"
      }
    },
    {
      "cell_type": "markdown",
      "source": [
        "* Used CrossEntropyLoss as the loss function because it is the most appropriate loss function for multi-class classification. While others might work but this worked best with our problem.\n",
        "* As mentioned earlier, since our images are of dims 28x28 the input size of our network is 784\n",
        "* Used Adam optimizer with a learning rate of 0.001 as it involves the optimization of several deep learning optimizers like SGD, RMSProp.\n",
        "Tested over several learning rates and this achieved the best."
      ],
      "metadata": {
        "id": "mF4H74QAG4jx"
      }
    },
    {
      "cell_type": "code",
      "source": [
        "loss_values = [] # Used to store loss values to plot.\n",
        "train_accuracies = [] # Used to store training accuracy to plot.\n",
        "val_accuracies = [] # Used to store validation accuracy to plot.\n",
        "val_losses = [] # For personal plotting and testing.\n",
        "\n",
        "criterion = nn.CrossEntropyLoss()\n",
        "optimizer = torch.optim.Adam(model.parameters(), lr=0.001)\n",
        "\n",
        "val_loader = DataLoader(val_dataset, batch_size=64, shuffle=False) # Validation data loader.\n",
        "\n",
        "num_epochs = len(train_loader) + 5  # Training for over 33 Epochs\n",
        "for epoch in range(num_epochs):\n",
        "    model.train()  # Set the model to training mode\n",
        "    correct = 0\n",
        "    total = 0\n",
        "    running_loss = 0.0 # For calculating avg loss.\n",
        "\n",
        "    # Training loop\n",
        "    for images, labels in train_loader:\n",
        "\n",
        "        images = images.view(images.size(0), -1) # Flatten the images\n",
        "\n",
        "        outputs = model(images)\n",
        "        loss = criterion(outputs, labels)\n",
        "\n",
        "        optimizer.zero_grad() # Backpropagation and optimization\n",
        "        loss.backward()\n",
        "        optimizer.step()\n",
        "\n",
        "        _, predicted = torch.max(outputs.data, 1)\n",
        "        total += labels.size(0)\n",
        "        correct += (predicted == labels).sum().item()\n",
        "        running_loss += loss.item()\n",
        "\n",
        "    train_accuracy = correct / total\n",
        "    train_accuracies.append(train_accuracy)  # Append training accuracy\n",
        "    loss_values.append(running_loss / len(train_loader))  # Average loss per batch\n",
        "\n",
        "    model.eval()  # Set the model to evaluation mode\n",
        "    correct_val = 0\n",
        "    total_val = 0\n",
        "    val_running_loss = 0.0\n",
        "\n",
        "\n",
        "    with torch.no_grad():\n",
        "        for val_images, val_labels in val_loader:\n",
        "            val_images = val_images.view(val_images.size(0), -1)  # Flatten the images\n",
        "\n",
        "            # Forward pass for validation\n",
        "            val_outputs = model(val_images)\n",
        "            val_loss = criterion(val_outputs, val_labels)\n",
        "\n",
        "            # Calculate validation predictions\n",
        "            _, val_predicted = torch.max(val_outputs.data, 1)\n",
        "            total_val += val_labels.size(0)\n",
        "            correct_val += (val_predicted == val_labels).sum().item()\n",
        "            val_running_loss += val_loss.item()\n",
        "\n",
        "    # Calculate validation accuracy and loss for the epoch\n",
        "    val_accuracy = correct_val / total_val\n",
        "    val_accuracies.append(val_accuracy)\n",
        "    val_losses.append(val_running_loss / len(val_loader))  # Average validation loss per batch\n",
        "\n",
        "    print(f'Epoch [{epoch+1}/{num_epochs}], '\n",
        "          f'Train Loss: {loss_values[-1]:.4f}, Train Accuracy: {train_accuracy:.4f}, '\n",
        "          f'Val Loss: {val_losses[-1]:.4f}, Val Accuracy: {val_accuracy:.4f}')\n",
        "\n",
        "# Create a DataLoader for the validation dataset\n",
        "\n",
        "model.eval()\n",
        "correct = 0\n",
        "total = 0\n",
        "\n",
        "with torch.no_grad():\n",
        "    for images, labels in test_loader:\n",
        "        images = images.view(images.size(0), -1)  # Flatten the images if needed\n",
        "\n",
        "        # Forward pass\n",
        "        outputs = model(images)\n",
        "        _, predicted = torch.max(outputs.data, 1)  # Get the predicted class\n",
        "\n",
        "        # Calculate accuracy\n",
        "        total += labels.size(0)\n",
        "        correct += (predicted == labels).sum().item()\n",
        "\n",
        "test_accuracy = correct / total\n",
        "print(f'Accuracy on test set: {test_accuracy * 100:.2f}%')"
      ],
      "metadata": {
        "colab": {
          "base_uri": "https://localhost:8080/"
        },
        "outputId": "14eb9aa4-2e4b-405b-a85a-dce9f4c9c3fe",
        "id": "oUFzKzrFA-8H"
      },
      "execution_count": 87,
      "outputs": [
        {
          "output_type": "stream",
          "name": "stdout",
          "text": [
            "Epoch [1/33], Train Loss: 1.8230, Train Accuracy: 0.3822, Val Loss: 1.2437, Val Accuracy: 0.6245\n",
            "Epoch [2/33], Train Loss: 0.9559, Train Accuracy: 0.6827, Val Loss: 0.7685, Val Accuracy: 0.7310\n",
            "Epoch [3/33], Train Loss: 0.7003, Train Accuracy: 0.7492, Val Loss: 0.6435, Val Accuracy: 0.7817\n",
            "Epoch [4/33], Train Loss: 0.6049, Train Accuracy: 0.7906, Val Loss: 0.5755, Val Accuracy: 0.7997\n",
            "Epoch [5/33], Train Loss: 0.5481, Train Accuracy: 0.8102, Val Loss: 0.5274, Val Accuracy: 0.8203\n",
            "Epoch [6/33], Train Loss: 0.5120, Train Accuracy: 0.8233, Val Loss: 0.5029, Val Accuracy: 0.8270\n",
            "Epoch [7/33], Train Loss: 0.4849, Train Accuracy: 0.8331, Val Loss: 0.4815, Val Accuracy: 0.8365\n",
            "Epoch [8/33], Train Loss: 0.4636, Train Accuracy: 0.8396, Val Loss: 0.4595, Val Accuracy: 0.8423\n",
            "Epoch [9/33], Train Loss: 0.4466, Train Accuracy: 0.8456, Val Loss: 0.4455, Val Accuracy: 0.8460\n",
            "Epoch [10/33], Train Loss: 0.4323, Train Accuracy: 0.8496, Val Loss: 0.4367, Val Accuracy: 0.8485\n",
            "Epoch [11/33], Train Loss: 0.4220, Train Accuracy: 0.8527, Val Loss: 0.4258, Val Accuracy: 0.8495\n",
            "Epoch [12/33], Train Loss: 0.4120, Train Accuracy: 0.8555, Val Loss: 0.4183, Val Accuracy: 0.8518\n",
            "Epoch [13/33], Train Loss: 0.4025, Train Accuracy: 0.8603, Val Loss: 0.4105, Val Accuracy: 0.8545\n",
            "Epoch [14/33], Train Loss: 0.3958, Train Accuracy: 0.8620, Val Loss: 0.4069, Val Accuracy: 0.8560\n",
            "Epoch [15/33], Train Loss: 0.3893, Train Accuracy: 0.8632, Val Loss: 0.4028, Val Accuracy: 0.8525\n",
            "Epoch [16/33], Train Loss: 0.3807, Train Accuracy: 0.8662, Val Loss: 0.3948, Val Accuracy: 0.8615\n",
            "Epoch [17/33], Train Loss: 0.3735, Train Accuracy: 0.8681, Val Loss: 0.3932, Val Accuracy: 0.8608\n",
            "Epoch [18/33], Train Loss: 0.3691, Train Accuracy: 0.8692, Val Loss: 0.3894, Val Accuracy: 0.8628\n",
            "Epoch [19/33], Train Loss: 0.3642, Train Accuracy: 0.8726, Val Loss: 0.3839, Val Accuracy: 0.8640\n",
            "Epoch [20/33], Train Loss: 0.3596, Train Accuracy: 0.8734, Val Loss: 0.3781, Val Accuracy: 0.8635\n",
            "Epoch [21/33], Train Loss: 0.3570, Train Accuracy: 0.8748, Val Loss: 0.3831, Val Accuracy: 0.8650\n",
            "Epoch [22/33], Train Loss: 0.3533, Train Accuracy: 0.8754, Val Loss: 0.3752, Val Accuracy: 0.8665\n",
            "Epoch [23/33], Train Loss: 0.3494, Train Accuracy: 0.8771, Val Loss: 0.3769, Val Accuracy: 0.8652\n",
            "Epoch [24/33], Train Loss: 0.3461, Train Accuracy: 0.8776, Val Loss: 0.3792, Val Accuracy: 0.8652\n",
            "Epoch [25/33], Train Loss: 0.3452, Train Accuracy: 0.8787, Val Loss: 0.3750, Val Accuracy: 0.8655\n",
            "Epoch [26/33], Train Loss: 0.3395, Train Accuracy: 0.8802, Val Loss: 0.3675, Val Accuracy: 0.8672\n",
            "Epoch [27/33], Train Loss: 0.3355, Train Accuracy: 0.8814, Val Loss: 0.3651, Val Accuracy: 0.8685\n",
            "Epoch [28/33], Train Loss: 0.3326, Train Accuracy: 0.8832, Val Loss: 0.3624, Val Accuracy: 0.8700\n",
            "Epoch [29/33], Train Loss: 0.3317, Train Accuracy: 0.8826, Val Loss: 0.3672, Val Accuracy: 0.8678\n",
            "Epoch [30/33], Train Loss: 0.3307, Train Accuracy: 0.8827, Val Loss: 0.3631, Val Accuracy: 0.8710\n",
            "Epoch [31/33], Train Loss: 0.3265, Train Accuracy: 0.8842, Val Loss: 0.3638, Val Accuracy: 0.8712\n",
            "Epoch [32/33], Train Loss: 0.3243, Train Accuracy: 0.8854, Val Loss: 0.3597, Val Accuracy: 0.8710\n",
            "Epoch [33/33], Train Loss: 0.3214, Train Accuracy: 0.8856, Val Loss: 0.3623, Val Accuracy: 0.8740\n",
            "Accuracy on test set: 86.14%\n"
          ]
        }
      ]
    },
    {
      "cell_type": "code",
      "source": [
        "epochs = range(1, len(loss_values) + 1)\n",
        "\n",
        "# Plot the loss values\n",
        "plt.figure(figsize=(10, 6))\n",
        "plt.plot(epochs, loss_values, marker='o', label=\"Loss\")\n",
        "plt.title(\"Loss vs Epochs\")\n",
        "plt.xlabel(\"Epochs\")\n",
        "plt.ylabel(\"Loss\")\n",
        "plt.legend()\n",
        "plt.grid(True)\n",
        "plt.show()"
      ],
      "metadata": {
        "colab": {
          "base_uri": "https://localhost:8080/",
          "height": 564
        },
        "id": "Mdc7O7b3EGlk",
        "outputId": "5fc53e96-157f-4802-b63e-b0e2a1595f4b"
      },
      "execution_count": 90,
      "outputs": [
        {
          "output_type": "display_data",
          "data": {
            "text/plain": [
              "<Figure size 1000x600 with 1 Axes>"
            ],
            "image/png": "[encoded data removed]"
          },
          "metadata": {}
        }
      ]
    },
    {
      "cell_type": "code",
      "source": [
        "epochs = range(1, len(val_accuracies) + 1)\n",
        "\n",
        "plt.figure(figsize=(10, 6))\n",
        "plt.plot(epochs, train_accuracies, marker='o', color='blue', label=\"Training Accuracy\")\n",
        "plt.plot(epochs, val_accuracies, marker='o', color='red', label=\"Validation Accuracy\")\n",
        "\n",
        "plt.title(\"Training and Validation Accuracy vs Epochs\")\n",
        "plt.xlabel(\"Epochs\")\n",
        "plt.ylabel(\"Accuracy\")\n",
        "plt.ylim(0, 1)\n",
        "plt.legend()\n",
        "plt.grid(True)\n",
        "\n",
        "plt.show()"
      ],
      "metadata": {
        "colab": {
          "base_uri": "https://localhost:8080/",
          "height": 564
        },
        "id": "hRjHgbeREIHo",
        "outputId": "301e1136-463a-4f34-e035-680ff257ad2a"
      },
      "execution_count": 91,
      "outputs": [
        {
          "output_type": "display_data",
          "data": {
            "text/plain": [
              "<Figure size 1000x600 with 1 Axes>"
            ],
            "image/png": "[encoded data removed]"
          },
          "metadata": {}
        }
      ]
    },
    {
      "cell_type": "markdown",
      "source": [
        "## Networks Comparison\n",
        "**Introduction**\n",
        "\n",
        "Network 1 simplifies the learning problem, reducing complexity and allowing the network to perform well despite being shallow and simple.\n",
        "Overfitting is less likely due to the lower complexity of the model and the smaller dataset.\n",
        "However, this network cannot generalize well to more complex tasks, such as recognizing all 10 classes, due to its simplicity as fewer parameters are required to learn the decision boundaries.\n",
        "\n",
        "\n",
        "Network 2 has a larger architecture which allows to learn complex relationships needed for 10 classes. However, this also increases the risk of overfitting\n",
        "Needs careful training to avoid vanishing or exploding gradients.\n",
        "Training on all 10 classes introduces more complexity, making the task harder compared to training on 4 classes as more parameters requires more complex computations.\n",
        "\n",
        "---\n",
        "\n",
        "**Parameters**\n",
        "\n",
        "It's obvious why the input layer and output layer's parameters are like that.\n",
        "\n",
        "**Network 1**\n",
        "\n",
        "Adam Learning Rate: 0.001\n",
        "A standard learning rate that balances training speed and stability, a larger value resulted in Exploding Gradient and Divergence.\n",
        "\n",
        "Batch Size: 1500\n",
        "A relatively large batch size that improves stability but reduces the frequency of updates, which can limit the model’s ability to converge effectively, a larger batch size resulted in worse accuracy and a small batch size resulted in loss of generality and accuracy.\n",
        "\n",
        "Number of Epochs: 13\n",
        "Fewer epochs reduce the total training time but may result in underfitting for more complex tasks, a much larger Epochs resulted in overfitting.\n",
        "\n",
        "**Network 2**\n",
        "\n",
        "\n",
        "Layer 1: nn.Linear(784, 64)\n",
        "\n",
        "This first layer captures all features (pixels) from the input, creating a high-dimensional representation.\n",
        "\n",
        "Layer 2: nn.Linear(64, 32)\n",
        "Reduces the feature dimensions, focusing on the most important information from the first layer.\n",
        "\n",
        "Layer 3: nn.Linear(32, 10)\n",
        "Further compresses the feature space, which may risk losing some critical information if the network is not trained properly.\n",
        "\n",
        "\n",
        "Larger layers resulted in capturing features that are not important for the classification while smaller layers gave up features that we're crucial for the classification task.\n",
        "\n",
        "Adam Learning Rate: 0.001\n",
        "\n",
        "A standard learning rate that prevents unstable updates. However, in deeper networks, slightly lower rates may improve convergence. **Also Same as mentioned in Network 1.**\n",
        "\n",
        "Batch Size: 2000\n",
        "A larger batch size stabilizes training but reduces the frequency of parameter updates. For a deeper network, this might hinder convergence.**Also Same as mentioned in Network 1.**\n",
        "\n",
        "Number of Epochs: 33\n",
        "Training for more epochs allows the network to converge better, but it increases the risk of overfitting, especially for smaller datasets.\n",
        "**Also Same as mentioned in Network 1.**\n",
        "\n",
        "Performance:\n",
        "Achieves an accuracy of 84%, which is lower than Network 1. The deeper architecture and more complex task (10 classes) make training harder, especially without additional regularization techniques.\n",
        "\n",
        "---\n",
        "---\n",
        "\n",
        "***Overall Performance Difference***\n",
        "\n",
        "Why Network 1 Performed Better than Network 2\n",
        "\n",
        "**Simpler Task: 4 Classes vs. 10 Classes**\n",
        "\n",
        "\n",
        "Network 1 was designed to classify only 4 classes, making the task inherently simpler. With fewer classes, the decision boundaries required to separate them in the feature space are less complex, allowing the network to learn and generalize more easily.\n",
        "\n",
        "Network 2, on the other hand, had to classify 10 classes, which introduces significantly more complexity. The decision boundaries in the feature space become more intricate, increasing the likelihood of overlapping features between classes and misclassifications. This higher complexity makes it harder for the network to achieve the same level of accuracy.\n",
        "\n",
        "\n",
        "**Less Layers vs. More Layers**\n",
        "\n",
        "\n",
        "Network 1 had a single layer (nn.Linear(784, 4)), which is sufficient for capturing the basic patterns needed to separate 4 classes. With fewer layers, the network focuses on simpler representations without overcomplicating the learning process.\n",
        "\n",
        "Network 2 had 4 layers (nn.Linear(784, 70), nn.Linear(70, 32), nn.Linear(32, 16), and nn.Linear(16, 10)), allowing it to capture more detailed and hierarchical features. While this depth is advantageous for complex problems, it introduces challenges:\n",
        "The network needs to learn many intermediate representations, which can lead to a loss of key information or overfitting to specific patterns in the data.\n",
        "Compressing features aggressively in later layers (e.g., reducing from 32 → 16 → 10) can also limit the network’s ability to preserve important information, affecting accuracy.\n",
        "\n",
        "\n",
        "**More Parameters and Training Requirements**\n",
        "\n",
        "\n",
        "Network 1 had only 3,140 parameters, making it much easier to optimize. With fewer parameters, the optimization process converges faster, requiring less data and fewer epochs to achieve high performance.\n",
        "Network 2, with 52,650 parameters, required significantly more training to optimize its larger parameter space. This large number of parameters increases the risk of overfitting without sufficient training data or proper regularization. Additionally:\n",
        "The increased depth and parameter count make it harder for the optimization algorithm to find a globally optimal solution.\n",
        "More parameters mean that the model requires more epochs and finer hyperparameter tuning to converge effectively.\n",
        "\n",
        "\n",
        "**Training Stability**\n",
        "\n",
        "\n",
        "The simpler architecture and fewer parameters in Network 1 make it less sensitive to hyperparameter choices (e.g., learning rate, batch size). It trains quickly and reaches high accuracy with minimal risk of overfitting.\n",
        "Network 2, due to its depth and complexity, is more sensitive to hyperparameters. Suboptimal choices (e.g., larger batch sizes or insufficient regularization) can lead to slower convergence, overfitting, or underfitting, impacting its performance.\n",
        "\n",
        "\n",
        "**Note**\n",
        "\n",
        "\n",
        "Its quite important to note that Network 2’s deeper architecture and increased number of layers make it better suited for complex tasks like 10-class classification. However, since it was mandatory that the network's parameters does not pass 60K without proper regularization and hyperparameter tuning, the network struggles to generalize well. In contrast, Network 1 performs better due to its simplicity and a less challenging task.\n",
        "\n",
        "\n",
        "\n",
        "\n",
        "\n",
        "\n"
      ],
      "metadata": {
        "id": "IUrLZJZaV3r6"
      }
    }
  ]
}